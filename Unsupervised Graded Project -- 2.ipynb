{
 "cells": [
  {
   "cell_type": "markdown",
   "id": "771fc7f7",
   "metadata": {},
   "source": [
    "\n",
    "### Machine Learning: Unsupervised Learning¶"
   ]
  },
  {
   "cell_type": "markdown",
   "id": "8dc950d4",
   "metadata": {},
   "source": [
    "## 1 Import required libraries"
   ]
  },
  {
   "cell_type": "code",
   "execution_count": 1,
   "id": "62930bd1",
   "metadata": {},
   "outputs": [],
   "source": [
    "import pandas as pd\n",
    "import numpy as np\n",
    "import matplotlib.pyplot as plt\n",
    "import seaborn as sns\n",
    "import warnings\n",
    "warnings.filterwarnings('ignore')\n",
    "\n",
    "from sklearn.preprocessing import StandardScaler,LabelEncoder\n",
    "from sklearn.linear_model import LogisticRegression\n",
    "from scipy import stats\n",
    "from sklearn.cluster import KMeans\n",
    "from scipy.stats import zscore\n",
    "from scipy.spatial import distance\n",
    "from scipy.cluster.hierarchy import linkage, dendrogram, fcluster\n",
    "from sklearn.cluster import AgglomerativeClustering\n",
    "from sklearn.decomposition import PCA\n",
    "from sklearn.model_selection import train_test_split\n",
    "from sklearn import preprocessing\n",
    "from sklearn.preprocessing import Normalizer"
   ]
  },
  {
   "cell_type": "markdown",
   "id": "5ce7ef63",
   "metadata": {},
   "source": [
    "# Load the dataset and display a sample of five rows of the data frame."
   ]
  },
  {
   "cell_type": "code",
   "execution_count": 2,
   "id": "7ab62a1c",
   "metadata": {},
   "outputs": [
    {
     "data": {
      "text/html": [
       "<div>\n",
       "<style scoped>\n",
       "    .dataframe tbody tr th:only-of-type {\n",
       "        vertical-align: middle;\n",
       "    }\n",
       "\n",
       "    .dataframe tbody tr th {\n",
       "        vertical-align: top;\n",
       "    }\n",
       "\n",
       "    .dataframe thead th {\n",
       "        text-align: right;\n",
       "    }\n",
       "</style>\n",
       "<table border=\"1\" class=\"dataframe\">\n",
       "  <thead>\n",
       "    <tr style=\"text-align: right;\">\n",
       "      <th></th>\n",
       "      <th>Unnamed: 0</th>\n",
       "      <th>fit</th>\n",
       "      <th>user_id</th>\n",
       "      <th>bust size</th>\n",
       "      <th>item_id</th>\n",
       "      <th>weight</th>\n",
       "      <th>rating</th>\n",
       "      <th>rented for</th>\n",
       "      <th>review_text</th>\n",
       "      <th>body type</th>\n",
       "      <th>review_summary</th>\n",
       "      <th>category</th>\n",
       "      <th>height</th>\n",
       "      <th>size</th>\n",
       "      <th>age</th>\n",
       "      <th>review_date</th>\n",
       "    </tr>\n",
       "  </thead>\n",
       "  <tbody>\n",
       "    <tr>\n",
       "      <th>0</th>\n",
       "      <td>0</td>\n",
       "      <td>fit</td>\n",
       "      <td>420272</td>\n",
       "      <td>34d</td>\n",
       "      <td>2260466</td>\n",
       "      <td>137lbs</td>\n",
       "      <td>10.0</td>\n",
       "      <td>vacation</td>\n",
       "      <td>An adorable romper! Belt and zipper were a lit...</td>\n",
       "      <td>hourglass</td>\n",
       "      <td>So many compliments!</td>\n",
       "      <td>romper</td>\n",
       "      <td>5' 8\"</td>\n",
       "      <td>14</td>\n",
       "      <td>28.0</td>\n",
       "      <td>April 20, 2016</td>\n",
       "    </tr>\n",
       "    <tr>\n",
       "      <th>1</th>\n",
       "      <td>1</td>\n",
       "      <td>fit</td>\n",
       "      <td>273551</td>\n",
       "      <td>34b</td>\n",
       "      <td>153475</td>\n",
       "      <td>132lbs</td>\n",
       "      <td>10.0</td>\n",
       "      <td>other</td>\n",
       "      <td>I rented this dress for a photo shoot. The the...</td>\n",
       "      <td>straight &amp; narrow</td>\n",
       "      <td>I felt so glamourous!!!</td>\n",
       "      <td>gown</td>\n",
       "      <td>5' 6\"</td>\n",
       "      <td>12</td>\n",
       "      <td>36.0</td>\n",
       "      <td>June 18, 2013</td>\n",
       "    </tr>\n",
       "    <tr>\n",
       "      <th>2</th>\n",
       "      <td>2</td>\n",
       "      <td>fit</td>\n",
       "      <td>360448</td>\n",
       "      <td>NaN</td>\n",
       "      <td>1063761</td>\n",
       "      <td>NaN</td>\n",
       "      <td>10.0</td>\n",
       "      <td>party</td>\n",
       "      <td>This hugged in all the right places! It was a ...</td>\n",
       "      <td>NaN</td>\n",
       "      <td>It was a great time to celebrate the (almost) ...</td>\n",
       "      <td>sheath</td>\n",
       "      <td>5' 4\"</td>\n",
       "      <td>4</td>\n",
       "      <td>116.0</td>\n",
       "      <td>December 14, 2015</td>\n",
       "    </tr>\n",
       "    <tr>\n",
       "      <th>3</th>\n",
       "      <td>3</td>\n",
       "      <td>fit</td>\n",
       "      <td>909926</td>\n",
       "      <td>34c</td>\n",
       "      <td>126335</td>\n",
       "      <td>135lbs</td>\n",
       "      <td>8.0</td>\n",
       "      <td>formal affair</td>\n",
       "      <td>I rented this for my company's black tie award...</td>\n",
       "      <td>pear</td>\n",
       "      <td>Dress arrived on time and in perfect condition.</td>\n",
       "      <td>dress</td>\n",
       "      <td>5' 5\"</td>\n",
       "      <td>8</td>\n",
       "      <td>34.0</td>\n",
       "      <td>February 12, 2014</td>\n",
       "    </tr>\n",
       "    <tr>\n",
       "      <th>4</th>\n",
       "      <td>4</td>\n",
       "      <td>fit</td>\n",
       "      <td>151944</td>\n",
       "      <td>34b</td>\n",
       "      <td>616682</td>\n",
       "      <td>145lbs</td>\n",
       "      <td>10.0</td>\n",
       "      <td>wedding</td>\n",
       "      <td>I have always been petite in my upper body and...</td>\n",
       "      <td>athletic</td>\n",
       "      <td>Was in love with this dress !!!</td>\n",
       "      <td>gown</td>\n",
       "      <td>5' 9\"</td>\n",
       "      <td>12</td>\n",
       "      <td>27.0</td>\n",
       "      <td>September 26, 2016</td>\n",
       "    </tr>\n",
       "  </tbody>\n",
       "</table>\n",
       "</div>"
      ],
      "text/plain": [
       "   Unnamed: 0  fit  user_id bust size  item_id  weight  rating     rented for  \\\n",
       "0           0  fit   420272       34d  2260466  137lbs    10.0       vacation   \n",
       "1           1  fit   273551       34b   153475  132lbs    10.0          other   \n",
       "2           2  fit   360448       NaN  1063761     NaN    10.0          party   \n",
       "3           3  fit   909926       34c   126335  135lbs     8.0  formal affair   \n",
       "4           4  fit   151944       34b   616682  145lbs    10.0        wedding   \n",
       "\n",
       "                                         review_text          body type  \\\n",
       "0  An adorable romper! Belt and zipper were a lit...          hourglass   \n",
       "1  I rented this dress for a photo shoot. The the...  straight & narrow   \n",
       "2  This hugged in all the right places! It was a ...                NaN   \n",
       "3  I rented this for my company's black tie award...               pear   \n",
       "4  I have always been petite in my upper body and...           athletic   \n",
       "\n",
       "                                      review_summary category height  size  \\\n",
       "0                               So many compliments!   romper  5' 8\"    14   \n",
       "1                            I felt so glamourous!!!     gown  5' 6\"    12   \n",
       "2  It was a great time to celebrate the (almost) ...   sheath  5' 4\"     4   \n",
       "3   Dress arrived on time and in perfect condition.     dress  5' 5\"     8   \n",
       "4                    Was in love with this dress !!!     gown  5' 9\"    12   \n",
       "\n",
       "     age         review_date  \n",
       "0   28.0      April 20, 2016  \n",
       "1   36.0       June 18, 2013  \n",
       "2  116.0   December 14, 2015  \n",
       "3   34.0   February 12, 2014  \n",
       "4   27.0  September 26, 2016  "
      ]
     },
     "execution_count": 2,
     "metadata": {},
     "output_type": "execute_result"
    }
   ],
   "source": [
    "df = pd.read_csv('C:/Users/Trilok/Downloads/renttherunway.csv')\n",
    "df.head()"
   ]
  },
  {
   "cell_type": "markdown",
   "id": "0b28a178",
   "metadata": {},
   "source": [
    "### 2. Check the first few samples, shape, info of the data and try to familiarize yourself with different features"
   ]
  },
  {
   "cell_type": "code",
   "execution_count": 3,
   "id": "e258d1f6",
   "metadata": {},
   "outputs": [
    {
     "data": {
      "text/plain": [
       "(192544, 16)"
      ]
     },
     "execution_count": 3,
     "metadata": {},
     "output_type": "execute_result"
    }
   ],
   "source": [
    "df.shape"
   ]
  },
  {
   "cell_type": "code",
   "execution_count": 4,
   "id": "8cc6efa4",
   "metadata": {},
   "outputs": [
    {
     "name": "stdout",
     "output_type": "stream",
     "text": [
      "<class 'pandas.core.frame.DataFrame'>\n",
      "RangeIndex: 192544 entries, 0 to 192543\n",
      "Data columns (total 16 columns):\n",
      " #   Column          Non-Null Count   Dtype  \n",
      "---  ------          --------------   -----  \n",
      " 0   Unnamed: 0      192544 non-null  int64  \n",
      " 1   fit             192544 non-null  object \n",
      " 2   user_id         192544 non-null  int64  \n",
      " 3   bust size       174133 non-null  object \n",
      " 4   item_id         192544 non-null  int64  \n",
      " 5   weight          162562 non-null  object \n",
      " 6   rating          192462 non-null  float64\n",
      " 7   rented for      192534 non-null  object \n",
      " 8   review_text     192482 non-null  object \n",
      " 9   body type       177907 non-null  object \n",
      " 10  review_summary  192199 non-null  object \n",
      " 11  category        192544 non-null  object \n",
      " 12  height          191867 non-null  object \n",
      " 13  size            192544 non-null  int64  \n",
      " 14  age             191584 non-null  float64\n",
      " 15  review_date     192544 non-null  object \n",
      "dtypes: float64(2), int64(4), object(10)\n",
      "memory usage: 23.5+ MB\n"
     ]
    }
   ],
   "source": [
    "df.info()"
   ]
  },
  {
   "cell_type": "markdown",
   "id": "77be70b8",
   "metadata": {},
   "source": [
    "*We have 192544 intances and 16 columns in the dataset.\n",
    "*We have around 10 object type variables and 4 integer, 2 float datatype variables."
   ]
  },
  {
   "cell_type": "code",
   "execution_count": 5,
   "id": "c7191076",
   "metadata": {},
   "outputs": [
    {
     "data": {
      "text/plain": [
       "Unnamed: 0        192544\n",
       "fit                    3\n",
       "user_id           105571\n",
       "bust size            106\n",
       "item_id             5850\n",
       "weight               190\n",
       "rating                 5\n",
       "rented for             9\n",
       "review_text       191027\n",
       "body type              7\n",
       "review_summary    154736\n",
       "category              68\n",
       "height                24\n",
       "size                  56\n",
       "age                   89\n",
       "review_date         2274\n",
       "dtype: int64"
      ]
     },
     "execution_count": 5,
     "metadata": {},
     "output_type": "execute_result"
    }
   ],
   "source": [
    "df.nunique()"
   ]
  },
  {
   "cell_type": "markdown",
   "id": "816524bb",
   "metadata": {},
   "source": [
    "## Data cleansing and Exploratory data analysis"
   ]
  },
  {
   "cell_type": "markdown",
   "id": "4554af2a",
   "metadata": {},
   "source": [
    "### 3. Check if there are any duplicate records in the dataset? If any, drop themS"
   ]
  },
  {
   "cell_type": "code",
   "execution_count": 6,
   "id": "3e075f50",
   "metadata": {},
   "outputs": [
    {
     "data": {
      "text/plain": [
       "0"
      ]
     },
     "execution_count": 6,
     "metadata": {},
     "output_type": "execute_result"
    }
   ],
   "source": [
    "len(df[df.duplicated()])"
   ]
  },
  {
   "cell_type": "markdown",
   "id": "3104f99d",
   "metadata": {},
   "source": [
    "### 4. Drop the columns which you think redundant for the analysis."
   ]
  },
  {
   "cell_type": "code",
   "execution_count": 7,
   "id": "df238a95",
   "metadata": {},
   "outputs": [],
   "source": [
    "df=df.drop(columns=['Unnamed: 0','user_id','item_id','review_text','review_summary','review_date'],axis=1)"
   ]
  },
  {
   "cell_type": "code",
   "execution_count": 8,
   "id": "d1ba18fc",
   "metadata": {},
   "outputs": [
    {
     "data": {
      "text/html": [
       "<div>\n",
       "<style scoped>\n",
       "    .dataframe tbody tr th:only-of-type {\n",
       "        vertical-align: middle;\n",
       "    }\n",
       "\n",
       "    .dataframe tbody tr th {\n",
       "        vertical-align: top;\n",
       "    }\n",
       "\n",
       "    .dataframe thead th {\n",
       "        text-align: right;\n",
       "    }\n",
       "</style>\n",
       "<table border=\"1\" class=\"dataframe\">\n",
       "  <thead>\n",
       "    <tr style=\"text-align: right;\">\n",
       "      <th></th>\n",
       "      <th>fit</th>\n",
       "      <th>bust size</th>\n",
       "      <th>weight</th>\n",
       "      <th>rating</th>\n",
       "      <th>rented for</th>\n",
       "      <th>body type</th>\n",
       "      <th>category</th>\n",
       "      <th>height</th>\n",
       "      <th>size</th>\n",
       "      <th>age</th>\n",
       "    </tr>\n",
       "  </thead>\n",
       "  <tbody>\n",
       "    <tr>\n",
       "      <th>0</th>\n",
       "      <td>fit</td>\n",
       "      <td>34d</td>\n",
       "      <td>137lbs</td>\n",
       "      <td>10.0</td>\n",
       "      <td>vacation</td>\n",
       "      <td>hourglass</td>\n",
       "      <td>romper</td>\n",
       "      <td>5' 8\"</td>\n",
       "      <td>14</td>\n",
       "      <td>28.0</td>\n",
       "    </tr>\n",
       "    <tr>\n",
       "      <th>1</th>\n",
       "      <td>fit</td>\n",
       "      <td>34b</td>\n",
       "      <td>132lbs</td>\n",
       "      <td>10.0</td>\n",
       "      <td>other</td>\n",
       "      <td>straight &amp; narrow</td>\n",
       "      <td>gown</td>\n",
       "      <td>5' 6\"</td>\n",
       "      <td>12</td>\n",
       "      <td>36.0</td>\n",
       "    </tr>\n",
       "    <tr>\n",
       "      <th>2</th>\n",
       "      <td>fit</td>\n",
       "      <td>NaN</td>\n",
       "      <td>NaN</td>\n",
       "      <td>10.0</td>\n",
       "      <td>party</td>\n",
       "      <td>NaN</td>\n",
       "      <td>sheath</td>\n",
       "      <td>5' 4\"</td>\n",
       "      <td>4</td>\n",
       "      <td>116.0</td>\n",
       "    </tr>\n",
       "    <tr>\n",
       "      <th>3</th>\n",
       "      <td>fit</td>\n",
       "      <td>34c</td>\n",
       "      <td>135lbs</td>\n",
       "      <td>8.0</td>\n",
       "      <td>formal affair</td>\n",
       "      <td>pear</td>\n",
       "      <td>dress</td>\n",
       "      <td>5' 5\"</td>\n",
       "      <td>8</td>\n",
       "      <td>34.0</td>\n",
       "    </tr>\n",
       "    <tr>\n",
       "      <th>4</th>\n",
       "      <td>fit</td>\n",
       "      <td>34b</td>\n",
       "      <td>145lbs</td>\n",
       "      <td>10.0</td>\n",
       "      <td>wedding</td>\n",
       "      <td>athletic</td>\n",
       "      <td>gown</td>\n",
       "      <td>5' 9\"</td>\n",
       "      <td>12</td>\n",
       "      <td>27.0</td>\n",
       "    </tr>\n",
       "  </tbody>\n",
       "</table>\n",
       "</div>"
      ],
      "text/plain": [
       "   fit bust size  weight  rating     rented for          body type category  \\\n",
       "0  fit       34d  137lbs    10.0       vacation          hourglass   romper   \n",
       "1  fit       34b  132lbs    10.0          other  straight & narrow     gown   \n",
       "2  fit       NaN     NaN    10.0          party                NaN   sheath   \n",
       "3  fit       34c  135lbs     8.0  formal affair               pear    dress   \n",
       "4  fit       34b  145lbs    10.0        wedding           athletic     gown   \n",
       "\n",
       "  height  size    age  \n",
       "0  5' 8\"    14   28.0  \n",
       "1  5' 6\"    12   36.0  \n",
       "2  5' 4\"     4  116.0  \n",
       "3  5' 5\"     8   34.0  \n",
       "4  5' 9\"    12   27.0  "
      ]
     },
     "execution_count": 8,
     "metadata": {},
     "output_type": "execute_result"
    }
   ],
   "source": [
    "df.head()"
   ]
  },
  {
   "cell_type": "markdown",
   "id": "becf5e17",
   "metadata": {},
   "source": [
    "### 5. Check the column 'weight', Is there any presence of string data? If yes, remove the string data and convert to float."
   ]
  },
  {
   "cell_type": "code",
   "execution_count": 9,
   "id": "3c56ce95",
   "metadata": {},
   "outputs": [
    {
     "data": {
      "text/html": [
       "<div>\n",
       "<style scoped>\n",
       "    .dataframe tbody tr th:only-of-type {\n",
       "        vertical-align: middle;\n",
       "    }\n",
       "\n",
       "    .dataframe tbody tr th {\n",
       "        vertical-align: top;\n",
       "    }\n",
       "\n",
       "    .dataframe thead th {\n",
       "        text-align: right;\n",
       "    }\n",
       "</style>\n",
       "<table border=\"1\" class=\"dataframe\">\n",
       "  <thead>\n",
       "    <tr style=\"text-align: right;\">\n",
       "      <th></th>\n",
       "      <th>fit</th>\n",
       "      <th>bust size</th>\n",
       "      <th>weight</th>\n",
       "      <th>rating</th>\n",
       "      <th>rented for</th>\n",
       "      <th>body type</th>\n",
       "      <th>category</th>\n",
       "      <th>height</th>\n",
       "      <th>size</th>\n",
       "      <th>age</th>\n",
       "    </tr>\n",
       "  </thead>\n",
       "  <tbody>\n",
       "    <tr>\n",
       "      <th>0</th>\n",
       "      <td>fit</td>\n",
       "      <td>34d</td>\n",
       "      <td>137.0</td>\n",
       "      <td>10.0</td>\n",
       "      <td>vacation</td>\n",
       "      <td>hourglass</td>\n",
       "      <td>romper</td>\n",
       "      <td>5' 8\"</td>\n",
       "      <td>14</td>\n",
       "      <td>28.0</td>\n",
       "    </tr>\n",
       "    <tr>\n",
       "      <th>1</th>\n",
       "      <td>fit</td>\n",
       "      <td>34b</td>\n",
       "      <td>132.0</td>\n",
       "      <td>10.0</td>\n",
       "      <td>other</td>\n",
       "      <td>straight &amp; narrow</td>\n",
       "      <td>gown</td>\n",
       "      <td>5' 6\"</td>\n",
       "      <td>12</td>\n",
       "      <td>36.0</td>\n",
       "    </tr>\n",
       "    <tr>\n",
       "      <th>2</th>\n",
       "      <td>fit</td>\n",
       "      <td>NaN</td>\n",
       "      <td>NaN</td>\n",
       "      <td>10.0</td>\n",
       "      <td>party</td>\n",
       "      <td>NaN</td>\n",
       "      <td>sheath</td>\n",
       "      <td>5' 4\"</td>\n",
       "      <td>4</td>\n",
       "      <td>116.0</td>\n",
       "    </tr>\n",
       "    <tr>\n",
       "      <th>3</th>\n",
       "      <td>fit</td>\n",
       "      <td>34c</td>\n",
       "      <td>135.0</td>\n",
       "      <td>8.0</td>\n",
       "      <td>formal affair</td>\n",
       "      <td>pear</td>\n",
       "      <td>dress</td>\n",
       "      <td>5' 5\"</td>\n",
       "      <td>8</td>\n",
       "      <td>34.0</td>\n",
       "    </tr>\n",
       "    <tr>\n",
       "      <th>4</th>\n",
       "      <td>fit</td>\n",
       "      <td>34b</td>\n",
       "      <td>145.0</td>\n",
       "      <td>10.0</td>\n",
       "      <td>wedding</td>\n",
       "      <td>athletic</td>\n",
       "      <td>gown</td>\n",
       "      <td>5' 9\"</td>\n",
       "      <td>12</td>\n",
       "      <td>27.0</td>\n",
       "    </tr>\n",
       "  </tbody>\n",
       "</table>\n",
       "</div>"
      ],
      "text/plain": [
       "   fit bust size  weight  rating     rented for          body type category  \\\n",
       "0  fit       34d   137.0    10.0       vacation          hourglass   romper   \n",
       "1  fit       34b   132.0    10.0          other  straight & narrow     gown   \n",
       "2  fit       NaN     NaN    10.0          party                NaN   sheath   \n",
       "3  fit       34c   135.0     8.0  formal affair               pear    dress   \n",
       "4  fit       34b   145.0    10.0        wedding           athletic     gown   \n",
       "\n",
       "  height  size    age  \n",
       "0  5' 8\"    14   28.0  \n",
       "1  5' 6\"    12   36.0  \n",
       "2  5' 4\"     4  116.0  \n",
       "3  5' 5\"     8   34.0  \n",
       "4  5' 9\"    12   27.0  "
      ]
     },
     "execution_count": 9,
     "metadata": {},
     "output_type": "execute_result"
    }
   ],
   "source": [
    "df['weight']=df['weight'].str.replace('lbs','').astype(float)\n",
    "df.head()"
   ]
  },
  {
   "cell_type": "code",
   "execution_count": 10,
   "id": "bf5d24db",
   "metadata": {},
   "outputs": [
    {
     "data": {
      "text/plain": [
       "dtype('float64')"
      ]
     },
     "execution_count": 10,
     "metadata": {},
     "output_type": "execute_result"
    }
   ],
   "source": [
    "df['weight'].dtype"
   ]
  },
  {
   "cell_type": "markdown",
   "id": "e9d4818d",
   "metadata": {},
   "source": [
    "### 6. Check the unique categories for the column 'rented for' and group 'party:cocktail' category with 'party'."
   ]
  },
  {
   "cell_type": "code",
   "execution_count": 11,
   "id": "07c33613",
   "metadata": {},
   "outputs": [
    {
     "data": {
      "text/plain": [
       "array(['vacation', 'other', 'party', 'formal affair', 'wedding', 'date',\n",
       "       'everyday', 'work', nan, 'party: cocktail'], dtype=object)"
      ]
     },
     "execution_count": 11,
     "metadata": {},
     "output_type": "execute_result"
    }
   ],
   "source": [
    "df['rented for'].unique()"
   ]
  },
  {
   "cell_type": "code",
   "execution_count": 12,
   "id": "9a65e7a5",
   "metadata": {},
   "outputs": [
    {
     "data": {
      "text/plain": [
       "wedding          57784\n",
       "formal affair    40408\n",
       "party            35627\n",
       "everyday         16822\n",
       "other            15388\n",
       "work             15042\n",
       "date              7388\n",
       "vacation          4075\n",
       "Name: rented for, dtype: int64"
      ]
     },
     "execution_count": 12,
     "metadata": {},
     "output_type": "execute_result"
    }
   ],
   "source": [
    "df['rented for']=df['rented for'].replace({'party: cocktail':'party'})\n",
    "df['rented for'].value_counts()"
   ]
  },
  {
   "cell_type": "markdown",
   "id": "d9c5f2b5",
   "metadata": {},
   "source": [
    "### 7. The column 'height' is in feet with a quotation mark, Convert to inches with float datatype."
   ]
  },
  {
   "cell_type": "code",
   "execution_count": 13,
   "id": "11a3b89f",
   "metadata": {},
   "outputs": [],
   "source": [
    "def Height_conversion(x):\n",
    "  if x is np.NaN:\n",
    "    return x\n",
    "  else:\n",
    "    ft,inc = x.split(\"'\")\n",
    "    inches = inc[1:-1]\n",
    "    return ((12*int(ft)) + int(inches))\n",
    "\n",
    "df['height'] = df['height'].apply(Height_conversion)"
   ]
  },
  {
   "cell_type": "code",
   "execution_count": 14,
   "id": "6c3f95f2",
   "metadata": {},
   "outputs": [
    {
     "data": {
      "text/plain": [
       "0         68.0\n",
       "1         66.0\n",
       "2         64.0\n",
       "3         65.0\n",
       "4         69.0\n",
       "          ... \n",
       "192539    69.0\n",
       "192540    61.0\n",
       "192541    68.0\n",
       "192542    66.0\n",
       "192543    66.0\n",
       "Name: height, Length: 192544, dtype: float64"
      ]
     },
     "execution_count": 14,
     "metadata": {},
     "output_type": "execute_result"
    }
   ],
   "source": [
    "df['height']"
   ]
  },
  {
   "cell_type": "markdown",
   "id": "bc60ff96",
   "metadata": {},
   "source": [
    "### 8. Check for missing values in each column of the dataset? If it exists, impute them with appropriate methods."
   ]
  },
  {
   "cell_type": "code",
   "execution_count": 15,
   "id": "895f1204",
   "metadata": {},
   "outputs": [
    {
     "data": {
      "text/plain": [
       "fit            0.000000\n",
       "bust size      9.561970\n",
       "weight        15.571506\n",
       "rating         0.042588\n",
       "rented for     0.005194\n",
       "body type      7.601899\n",
       "category       0.000000\n",
       "height         0.351608\n",
       "size           0.000000\n",
       "age            0.498587\n",
       "dtype: float64"
      ]
     },
     "execution_count": 15,
     "metadata": {},
     "output_type": "execute_result"
    }
   ],
   "source": [
    "df.isnull().sum()/len(df)*100"
   ]
  },
  {
   "cell_type": "code",
   "execution_count": 16,
   "id": "5358f90f",
   "metadata": {},
   "outputs": [],
   "source": [
    "import random\n",
    "\n",
    "top10_bustsize = df['bust size'].value_counts().sort_values(ascending=False).head(10).index.tolist()\n",
    "\n",
    "def Bust_Replacement(x):\n",
    "  if x is np.NaN:\n",
    "    return np.random.choice(top10_bustsize)\n",
    "  else:\n",
    "    return x\n",
    "\n",
    "df['bust size'] = df['bust size'].apply(Bust_Replacement)"
   ]
  },
  {
   "cell_type": "code",
   "execution_count": 17,
   "id": "f5bdc33c",
   "metadata": {},
   "outputs": [],
   "source": [
    "top3_bodytype = df['body type'].value_counts().sort_values(ascending=False).head(3).index.tolist()\n",
    "\n",
    "def BodyType_Replacement(x):\n",
    "  if x is np.NaN:\n",
    "    return np.random.choice(top3_bodytype)\n",
    "  else:\n",
    "    return x\n",
    "\n",
    "df['body type'] = df['body type'].apply(BodyType_Replacement)"
   ]
  },
  {
   "cell_type": "code",
   "execution_count": 18,
   "id": "5bae1666",
   "metadata": {},
   "outputs": [],
   "source": [
    "top3_rentedFor = df['rented for'].value_counts().sort_values(ascending=False).head(3).index.tolist()\n",
    "\n",
    "def RentedFor_Replacement(x):\n",
    "  if x is np.NaN:\n",
    "    return np.random.choice(top3_rentedFor)\n",
    "  else:\n",
    "    return x\n",
    "\n",
    "df['rented for'] = df['rented for'].apply(RentedFor_Replacement)"
   ]
  },
  {
   "cell_type": "code",
   "execution_count": 19,
   "id": "32666eda",
   "metadata": {},
   "outputs": [
    {
     "data": {
      "text/html": [
       "<div>\n",
       "<style scoped>\n",
       "    .dataframe tbody tr th:only-of-type {\n",
       "        vertical-align: middle;\n",
       "    }\n",
       "\n",
       "    .dataframe tbody tr th {\n",
       "        vertical-align: top;\n",
       "    }\n",
       "\n",
       "    .dataframe thead th {\n",
       "        text-align: right;\n",
       "    }\n",
       "</style>\n",
       "<table border=\"1\" class=\"dataframe\">\n",
       "  <thead>\n",
       "    <tr style=\"text-align: right;\">\n",
       "      <th></th>\n",
       "      <th>fit</th>\n",
       "      <th>bust size</th>\n",
       "      <th>weight</th>\n",
       "      <th>rating</th>\n",
       "      <th>rented for</th>\n",
       "      <th>body type</th>\n",
       "      <th>category</th>\n",
       "      <th>height</th>\n",
       "      <th>size</th>\n",
       "      <th>age</th>\n",
       "    </tr>\n",
       "  </thead>\n",
       "  <tbody>\n",
       "    <tr>\n",
       "      <th>0</th>\n",
       "      <td>fit</td>\n",
       "      <td>34d</td>\n",
       "      <td>137.0</td>\n",
       "      <td>10.0</td>\n",
       "      <td>vacation</td>\n",
       "      <td>hourglass</td>\n",
       "      <td>romper</td>\n",
       "      <td>68.0</td>\n",
       "      <td>14</td>\n",
       "      <td>28.0</td>\n",
       "    </tr>\n",
       "    <tr>\n",
       "      <th>1</th>\n",
       "      <td>fit</td>\n",
       "      <td>34b</td>\n",
       "      <td>132.0</td>\n",
       "      <td>10.0</td>\n",
       "      <td>other</td>\n",
       "      <td>straight &amp; narrow</td>\n",
       "      <td>gown</td>\n",
       "      <td>66.0</td>\n",
       "      <td>12</td>\n",
       "      <td>36.0</td>\n",
       "    </tr>\n",
       "    <tr>\n",
       "      <th>2</th>\n",
       "      <td>fit</td>\n",
       "      <td>34c</td>\n",
       "      <td>NaN</td>\n",
       "      <td>10.0</td>\n",
       "      <td>party</td>\n",
       "      <td>athletic</td>\n",
       "      <td>sheath</td>\n",
       "      <td>64.0</td>\n",
       "      <td>4</td>\n",
       "      <td>116.0</td>\n",
       "    </tr>\n",
       "    <tr>\n",
       "      <th>3</th>\n",
       "      <td>fit</td>\n",
       "      <td>34c</td>\n",
       "      <td>135.0</td>\n",
       "      <td>8.0</td>\n",
       "      <td>formal affair</td>\n",
       "      <td>pear</td>\n",
       "      <td>dress</td>\n",
       "      <td>65.0</td>\n",
       "      <td>8</td>\n",
       "      <td>34.0</td>\n",
       "    </tr>\n",
       "    <tr>\n",
       "      <th>4</th>\n",
       "      <td>fit</td>\n",
       "      <td>34b</td>\n",
       "      <td>145.0</td>\n",
       "      <td>10.0</td>\n",
       "      <td>wedding</td>\n",
       "      <td>athletic</td>\n",
       "      <td>gown</td>\n",
       "      <td>69.0</td>\n",
       "      <td>12</td>\n",
       "      <td>27.0</td>\n",
       "    </tr>\n",
       "  </tbody>\n",
       "</table>\n",
       "</div>"
      ],
      "text/plain": [
       "   fit bust size  weight  rating     rented for          body type category  \\\n",
       "0  fit       34d   137.0    10.0       vacation          hourglass   romper   \n",
       "1  fit       34b   132.0    10.0          other  straight & narrow     gown   \n",
       "2  fit       34c     NaN    10.0          party           athletic   sheath   \n",
       "3  fit       34c   135.0     8.0  formal affair               pear    dress   \n",
       "4  fit       34b   145.0    10.0        wedding           athletic     gown   \n",
       "\n",
       "   height  size    age  \n",
       "0    68.0    14   28.0  \n",
       "1    66.0    12   36.0  \n",
       "2    64.0     4  116.0  \n",
       "3    65.0     8   34.0  \n",
       "4    69.0    12   27.0  "
      ]
     },
     "execution_count": 19,
     "metadata": {},
     "output_type": "execute_result"
    }
   ],
   "source": [
    "#Replacing the missing values with mean\n",
    "df['age']=df['age'].fillna(df['age'].mean())\n",
    "df['height']=df['height'].fillna(df['height'].mean())\n",
    "df['rating']=df['rating'].fillna(df['rating'].mean())\n",
    "df.head()"
   ]
  },
  {
   "cell_type": "code",
   "execution_count": 20,
   "id": "627e2fbe",
   "metadata": {},
   "outputs": [
    {
     "data": {
      "image/png": "[encoded data removed]",
      "text/plain": [
       "<Figure size 1000x600 with 2 Axes>"
      ]
     },
     "metadata": {},
     "output_type": "display_data"
    }
   ],
   "source": [
    "plt.figure(figsize=(10, 6))\n",
    "sns.heatmap(df.corr(), annot=True, cmap='Greens')\n",
    "plt.show()"
   ]
  },
  {
   "cell_type": "code",
   "execution_count": 21,
   "id": "fa41ab9f",
   "metadata": {},
   "outputs": [
    {
     "name": "stdout",
     "output_type": "stream",
     "text": [
      "        fit bust size      weight  rating     rented for          body type  \\\n",
      "0       fit       34d  137.000000    10.0       vacation          hourglass   \n",
      "1       fit       34b  132.000000    10.0          other  straight & narrow   \n",
      "2       fit       34c  102.106266    10.0          party           athletic   \n",
      "3       fit       34c  135.000000     8.0  formal affair               pear   \n",
      "4       fit       34b  145.000000    10.0        wedding           athletic   \n",
      "...     ...       ...         ...     ...            ...                ...   \n",
      "192539  fit      34dd  140.000000    10.0           work          hourglass   \n",
      "192540  fit       32c  100.000000    10.0           work             petite   \n",
      "192541  fit       36a  135.000000     6.0       everyday  straight & narrow   \n",
      "192542  fit       36c  165.000000    10.0        wedding               pear   \n",
      "192543  fit       36b  155.000000    10.0        wedding           athletic   \n",
      "\n",
      "        category  height  size    age  \n",
      "0         romper    68.0    14   28.0  \n",
      "1           gown    66.0    12   36.0  \n",
      "2         sheath    64.0     4  116.0  \n",
      "3          dress    65.0     8   34.0  \n",
      "4           gown    69.0    12   27.0  \n",
      "...          ...     ...   ...    ...  \n",
      "192539  jumpsuit    69.0     8   42.0  \n",
      "192540     dress    61.0     4   29.0  \n",
      "192541     dress    68.0     8   31.0  \n",
      "192542     dress    66.0    16   31.0  \n",
      "192543      gown    66.0    16   30.0  \n",
      "\n",
      "[192544 rows x 10 columns]\n"
     ]
    }
   ],
   "source": [
    "from sklearn.model_selection import train_test_split\n",
    "from sklearn.linear_model import LinearRegression\n",
    "\n",
    "\n",
    "# Step 1: Split the dataset into two parts based on missingness of the target variable\n",
    "df_missing = df[df['weight'].isnull()]  # Dataset with missing values\n",
    "df_non_missing = df[~df['weight'].isnull()]  # Dataset without missing values\n",
    "\n",
    "# Step 2: Identify relevant features for predicting missing values\n",
    "features = ['height', 'size', 'age']  # Add relevant feature names\n",
    "\n",
    "# Step 3: Build a predictive model using the dataset without missing values\n",
    "X_train, X_test, y_train, y_test = train_test_split(df_non_missing[features], df_non_missing['weight'], test_size=0.3)\n",
    "model = LinearRegression()  # Choose an appropriate model\n",
    "model.fit(X_train, y_train)\n",
    "\n",
    "# Step 4: Use the trained model to predict missing values\n",
    "missing_predictions = model.predict(df_missing[features])\n",
    "\n",
    "# Step 5: Replace missing values with the predicted values in the original dataset\n",
    "df.loc[df['weight'].isnull(), 'weight'] = missing_predictions\n",
    "\n",
    "print(df)"
   ]
  },
  {
   "cell_type": "code",
   "execution_count": 22,
   "id": "81d70b57",
   "metadata": {},
   "outputs": [
    {
     "data": {
      "text/plain": [
       "fit           0.0\n",
       "bust size     0.0\n",
       "weight        0.0\n",
       "rating        0.0\n",
       "rented for    0.0\n",
       "body type     0.0\n",
       "category      0.0\n",
       "height        0.0\n",
       "size          0.0\n",
       "age           0.0\n",
       "dtype: float64"
      ]
     },
     "execution_count": 22,
     "metadata": {},
     "output_type": "execute_result"
    }
   ],
   "source": [
    "df.isnull().sum()/len(df)*100"
   ]
  },
  {
   "cell_type": "markdown",
   "id": "5000b0a3",
   "metadata": {},
   "source": [
    "### 9. Check the statistical summary for the numerical and categorical columns and write your findings."
   ]
  },
  {
   "cell_type": "code",
   "execution_count": 23,
   "id": "5ee6d2b5",
   "metadata": {},
   "outputs": [
    {
     "data": {
      "text/html": [
       "<div>\n",
       "<style scoped>\n",
       "    .dataframe tbody tr th:only-of-type {\n",
       "        vertical-align: middle;\n",
       "    }\n",
       "\n",
       "    .dataframe tbody tr th {\n",
       "        vertical-align: top;\n",
       "    }\n",
       "\n",
       "    .dataframe thead th {\n",
       "        text-align: right;\n",
       "    }\n",
       "</style>\n",
       "<table border=\"1\" class=\"dataframe\">\n",
       "  <thead>\n",
       "    <tr style=\"text-align: right;\">\n",
       "      <th></th>\n",
       "      <th>weight</th>\n",
       "      <th>rating</th>\n",
       "      <th>height</th>\n",
       "      <th>size</th>\n",
       "      <th>age</th>\n",
       "    </tr>\n",
       "  </thead>\n",
       "  <tbody>\n",
       "    <tr>\n",
       "      <th>count</th>\n",
       "      <td>192544.000000</td>\n",
       "      <td>192544.000000</td>\n",
       "      <td>192544.000000</td>\n",
       "      <td>192544.000000</td>\n",
       "      <td>192544.000000</td>\n",
       "    </tr>\n",
       "    <tr>\n",
       "      <th>mean</th>\n",
       "      <td>139.137735</td>\n",
       "      <td>9.092371</td>\n",
       "      <td>65.310621</td>\n",
       "      <td>12.245175</td>\n",
       "      <td>33.871017</td>\n",
       "    </tr>\n",
       "    <tr>\n",
       "      <th>std</th>\n",
       "      <td>22.543627</td>\n",
       "      <td>1.429740</td>\n",
       "      <td>2.658793</td>\n",
       "      <td>8.494877</td>\n",
       "      <td>8.037969</td>\n",
       "    </tr>\n",
       "    <tr>\n",
       "      <th>min</th>\n",
       "      <td>50.000000</td>\n",
       "      <td>2.000000</td>\n",
       "      <td>54.000000</td>\n",
       "      <td>0.000000</td>\n",
       "      <td>0.000000</td>\n",
       "    </tr>\n",
       "    <tr>\n",
       "      <th>25%</th>\n",
       "      <td>125.000000</td>\n",
       "      <td>8.000000</td>\n",
       "      <td>63.000000</td>\n",
       "      <td>8.000000</td>\n",
       "      <td>29.000000</td>\n",
       "    </tr>\n",
       "    <tr>\n",
       "      <th>50%</th>\n",
       "      <td>135.000000</td>\n",
       "      <td>10.000000</td>\n",
       "      <td>65.000000</td>\n",
       "      <td>12.000000</td>\n",
       "      <td>32.000000</td>\n",
       "    </tr>\n",
       "    <tr>\n",
       "      <th>75%</th>\n",
       "      <td>150.000000</td>\n",
       "      <td>10.000000</td>\n",
       "      <td>67.000000</td>\n",
       "      <td>16.000000</td>\n",
       "      <td>37.000000</td>\n",
       "    </tr>\n",
       "    <tr>\n",
       "      <th>max</th>\n",
       "      <td>300.000000</td>\n",
       "      <td>10.000000</td>\n",
       "      <td>78.000000</td>\n",
       "      <td>58.000000</td>\n",
       "      <td>117.000000</td>\n",
       "    </tr>\n",
       "  </tbody>\n",
       "</table>\n",
       "</div>"
      ],
      "text/plain": [
       "              weight         rating         height           size  \\\n",
       "count  192544.000000  192544.000000  192544.000000  192544.000000   \n",
       "mean      139.137735       9.092371      65.310621      12.245175   \n",
       "std        22.543627       1.429740       2.658793       8.494877   \n",
       "min        50.000000       2.000000      54.000000       0.000000   \n",
       "25%       125.000000       8.000000      63.000000       8.000000   \n",
       "50%       135.000000      10.000000      65.000000      12.000000   \n",
       "75%       150.000000      10.000000      67.000000      16.000000   \n",
       "max       300.000000      10.000000      78.000000      58.000000   \n",
       "\n",
       "                 age  \n",
       "count  192544.000000  \n",
       "mean       33.871017  \n",
       "std         8.037969  \n",
       "min         0.000000  \n",
       "25%        29.000000  \n",
       "50%        32.000000  \n",
       "75%        37.000000  \n",
       "max       117.000000  "
      ]
     },
     "execution_count": 23,
     "metadata": {},
     "output_type": "execute_result"
    }
   ],
   "source": [
    "df.describe()"
   ]
  },
  {
   "cell_type": "code",
   "execution_count": 24,
   "id": "d6510c3a",
   "metadata": {},
   "outputs": [
    {
     "data": {
      "text/html": [
       "<div>\n",
       "<style scoped>\n",
       "    .dataframe tbody tr th:only-of-type {\n",
       "        vertical-align: middle;\n",
       "    }\n",
       "\n",
       "    .dataframe tbody tr th {\n",
       "        vertical-align: top;\n",
       "    }\n",
       "\n",
       "    .dataframe thead th {\n",
       "        text-align: right;\n",
       "    }\n",
       "</style>\n",
       "<table border=\"1\" class=\"dataframe\">\n",
       "  <thead>\n",
       "    <tr style=\"text-align: right;\">\n",
       "      <th></th>\n",
       "      <th>fit</th>\n",
       "      <th>bust size</th>\n",
       "      <th>rented for</th>\n",
       "      <th>body type</th>\n",
       "      <th>category</th>\n",
       "    </tr>\n",
       "  </thead>\n",
       "  <tbody>\n",
       "    <tr>\n",
       "      <th>count</th>\n",
       "      <td>192544</td>\n",
       "      <td>192544</td>\n",
       "      <td>192544</td>\n",
       "      <td>192544</td>\n",
       "      <td>192544</td>\n",
       "    </tr>\n",
       "    <tr>\n",
       "      <th>unique</th>\n",
       "      <td>3</td>\n",
       "      <td>106</td>\n",
       "      <td>8</td>\n",
       "      <td>7</td>\n",
       "      <td>68</td>\n",
       "    </tr>\n",
       "    <tr>\n",
       "      <th>top</th>\n",
       "      <td>fit</td>\n",
       "      <td>34b</td>\n",
       "      <td>wedding</td>\n",
       "      <td>hourglass</td>\n",
       "      <td>dress</td>\n",
       "    </tr>\n",
       "    <tr>\n",
       "      <th>freq</th>\n",
       "      <td>142058</td>\n",
       "      <td>29183</td>\n",
       "      <td>57788</td>\n",
       "      <td>60235</td>\n",
       "      <td>92884</td>\n",
       "    </tr>\n",
       "  </tbody>\n",
       "</table>\n",
       "</div>"
      ],
      "text/plain": [
       "           fit bust size rented for  body type category\n",
       "count   192544    192544     192544     192544   192544\n",
       "unique       3       106          8          7       68\n",
       "top        fit       34b    wedding  hourglass    dress\n",
       "freq    142058     29183      57788      60235    92884"
      ]
     },
     "execution_count": 24,
     "metadata": {},
     "output_type": "execute_result"
    }
   ],
   "source": [
    "df.describe(include='O')"
   ]
  },
  {
   "cell_type": "markdown",
   "id": "9fb1f3f5",
   "metadata": {},
   "source": [
    "### 10. Are there outliers present in the column age? If yes, treat them with the appropriate method."
   ]
  },
  {
   "cell_type": "code",
   "execution_count": 25,
   "id": "9967d306",
   "metadata": {},
   "outputs": [
    {
     "data": {
      "image/png": "[encoded data removed]",
      "text/plain": [
       "<Figure size 640x480 with 1 Axes>"
      ]
     },
     "metadata": {},
     "output_type": "display_data"
    }
   ],
   "source": [
    "sns.boxplot(df['age'])\n",
    "plt.show()"
   ]
  },
  {
   "cell_type": "code",
   "execution_count": 26,
   "id": "96d803c0",
   "metadata": {},
   "outputs": [],
   "source": [
    "Q1 = df['age'].quantile(0.25)\n",
    "Q3 = df['age'].quantile(0.75)\n",
    "IQR = Q3 - Q1\n",
    "df = df[~((df['age'] < (Q1 - 1.5 * IQR)) | (df['age'] > (Q3 + 1.5 * IQR)))]"
   ]
  },
  {
   "cell_type": "code",
   "execution_count": 27,
   "id": "ee9601c1",
   "metadata": {},
   "outputs": [
    {
     "data": {
      "image/png": "[encoded data removed]",
      "text/plain": [
       "<Figure size 640x480 with 1 Axes>"
      ]
     },
     "metadata": {},
     "output_type": "display_data"
    }
   ],
   "source": [
    "sns.boxplot(df['age'])\n",
    "plt.show()"
   ]
  },
  {
   "cell_type": "code",
   "execution_count": 28,
   "id": "41065eb6",
   "metadata": {},
   "outputs": [
    {
     "data": {
      "text/plain": [
       "(182290, 10)"
      ]
     },
     "execution_count": 28,
     "metadata": {},
     "output_type": "execute_result"
    }
   ],
   "source": [
    "df.shape"
   ]
  },
  {
   "cell_type": "markdown",
   "id": "a9100c85",
   "metadata": {},
   "source": [
    "### 11. Check the distribution of the different categories in the column 'rented for' using appropriate plot. "
   ]
  },
  {
   "cell_type": "code",
   "execution_count": 29,
   "id": "98eb55b3",
   "metadata": {},
   "outputs": [
    {
     "data": {
      "text/plain": [
       "<Axes: >"
      ]
     },
     "execution_count": 29,
     "metadata": {},
     "output_type": "execute_result"
    },
    {
     "data": {
      "image/png": "[encoded data removed]",
      "text/plain": [
       "<Figure size 640x480 with 1 Axes>"
      ]
     },
     "metadata": {},
     "output_type": "display_data"
    }
   ],
   "source": [
    "df['rented for'].value_counts().plot(kind='bar')"
   ]
  },
  {
   "cell_type": "markdown",
   "id": "76ed0839",
   "metadata": {},
   "source": [
    "##  Data Preparation for model building:"
   ]
  },
  {
   "cell_type": "markdown",
   "id": "85e7a059",
   "metadata": {},
   "source": [
    "### 12. Encode the categorical variables in the dataset."
   ]
  },
  {
   "cell_type": "code",
   "execution_count": 30,
   "id": "db6da78b",
   "metadata": {},
   "outputs": [],
   "source": [
    "df_cat=df[['fit','bust size','rented for','body type','category','height']]"
   ]
  },
  {
   "cell_type": "code",
   "execution_count": 31,
   "id": "31b799f6",
   "metadata": {},
   "outputs": [],
   "source": [
    "## Label encoding\n",
    "le = LabelEncoder()\n",
    "for col in df_cat:\n",
    "    df[col] = le.fit_transform(df[col])"
   ]
  },
  {
   "cell_type": "markdown",
   "id": "a46e57e4",
   "metadata": {},
   "source": [
    "### 13. Standardize the data, so that the values are within a particular range."
   ]
  },
  {
   "cell_type": "code",
   "execution_count": 32,
   "id": "b508f45b",
   "metadata": {},
   "outputs": [
    {
     "data": {
      "text/html": [
       "<div>\n",
       "<style scoped>\n",
       "    .dataframe tbody tr th:only-of-type {\n",
       "        vertical-align: middle;\n",
       "    }\n",
       "\n",
       "    .dataframe tbody tr th {\n",
       "        vertical-align: top;\n",
       "    }\n",
       "\n",
       "    .dataframe thead th {\n",
       "        text-align: right;\n",
       "    }\n",
       "</style>\n",
       "<table border=\"1\" class=\"dataframe\">\n",
       "  <thead>\n",
       "    <tr style=\"text-align: right;\">\n",
       "      <th></th>\n",
       "      <th>fit</th>\n",
       "      <th>bust size</th>\n",
       "      <th>weight</th>\n",
       "      <th>rating</th>\n",
       "      <th>rented for</th>\n",
       "      <th>body type</th>\n",
       "      <th>category</th>\n",
       "      <th>height</th>\n",
       "      <th>size</th>\n",
       "      <th>age</th>\n",
       "    </tr>\n",
       "  </thead>\n",
       "  <tbody>\n",
       "    <tr>\n",
       "      <th>0</th>\n",
       "      <td>-0.556727</td>\n",
       "      <td>0.011637</td>\n",
       "      <td>-0.089956</td>\n",
       "      <td>0.636215</td>\n",
       "      <td>0.504951</td>\n",
       "      <td>0.032564</td>\n",
       "      <td>1.577868</td>\n",
       "      <td>1.042810</td>\n",
       "      <td>0.231460</td>\n",
       "      <td>-0.769380</td>\n",
       "    </tr>\n",
       "    <tr>\n",
       "      <th>1</th>\n",
       "      <td>-0.556727</td>\n",
       "      <td>-0.165309</td>\n",
       "      <td>-0.312536</td>\n",
       "      <td>0.636215</td>\n",
       "      <td>-0.466198</td>\n",
       "      <td>1.895532</td>\n",
       "      <td>-0.304830</td>\n",
       "      <td>0.394804</td>\n",
       "      <td>-0.006696</td>\n",
       "      <td>0.548608</td>\n",
       "    </tr>\n",
       "    <tr>\n",
       "      <th>3</th>\n",
       "      <td>-0.556727</td>\n",
       "      <td>-0.076836</td>\n",
       "      <td>-0.178988</td>\n",
       "      <td>-0.764878</td>\n",
       "      <td>-0.951773</td>\n",
       "      <td>0.653553</td>\n",
       "      <td>-0.618613</td>\n",
       "      <td>-0.253202</td>\n",
       "      <td>-0.483007</td>\n",
       "      <td>0.219111</td>\n",
       "    </tr>\n",
       "    <tr>\n",
       "      <th>4</th>\n",
       "      <td>-0.556727</td>\n",
       "      <td>-0.165309</td>\n",
       "      <td>0.266172</td>\n",
       "      <td>0.636215</td>\n",
       "      <td>0.990525</td>\n",
       "      <td>-1.209415</td>\n",
       "      <td>-0.304830</td>\n",
       "      <td>1.366813</td>\n",
       "      <td>-0.006696</td>\n",
       "      <td>-0.934129</td>\n",
       "    </tr>\n",
       "    <tr>\n",
       "      <th>5</th>\n",
       "      <td>-0.556727</td>\n",
       "      <td>-1.315454</td>\n",
       "      <td>-0.045440</td>\n",
       "      <td>-0.764878</td>\n",
       "      <td>-1.922922</td>\n",
       "      <td>-1.209415</td>\n",
       "      <td>-0.618613</td>\n",
       "      <td>1.042810</td>\n",
       "      <td>-0.483007</td>\n",
       "      <td>2.031345</td>\n",
       "    </tr>\n",
       "  </tbody>\n",
       "</table>\n",
       "</div>"
      ],
      "text/plain": [
       "        fit  bust size    weight    rating  rented for  body type  category  \\\n",
       "0 -0.556727   0.011637 -0.089956  0.636215    0.504951   0.032564  1.577868   \n",
       "1 -0.556727  -0.165309 -0.312536  0.636215   -0.466198   1.895532 -0.304830   \n",
       "3 -0.556727  -0.076836 -0.178988 -0.764878   -0.951773   0.653553 -0.618613   \n",
       "4 -0.556727  -0.165309  0.266172  0.636215    0.990525  -1.209415 -0.304830   \n",
       "5 -0.556727  -1.315454 -0.045440 -0.764878   -1.922922  -1.209415 -0.618613   \n",
       "\n",
       "     height      size       age  \n",
       "0  1.042810  0.231460 -0.769380  \n",
       "1  0.394804 -0.006696  0.548608  \n",
       "3 -0.253202 -0.483007  0.219111  \n",
       "4  1.366813 -0.006696 -0.934129  \n",
       "5  1.042810 -0.483007  2.031345  "
      ]
     },
     "execution_count": 32,
     "metadata": {},
     "output_type": "execute_result"
    }
   ],
   "source": [
    "#Standardizing the data\n",
    "from sklearn.preprocessing import StandardScaler\n",
    "\n",
    "ss=StandardScaler()\n",
    "df.iloc[:,:] = ss.fit_transform(df.iloc[:,:])\n",
    "df.head()"
   ]
  },
  {
   "cell_type": "markdown",
   "id": "6e4b3c95",
   "metadata": {},
   "source": [
    "## Principal Component Analysis and Clustering:"
   ]
  },
  {
   "cell_type": "markdown",
   "id": "0428c010",
   "metadata": {},
   "source": [
    "### 14. Apply PCA on the above dataset and determine the number of PCA components to be used so that 90-95% of the variance in data is explained by the same."
   ]
  },
  {
   "cell_type": "code",
   "execution_count": 33,
   "id": "aefe53e0",
   "metadata": {},
   "outputs": [
    {
     "name": "stdout",
     "output_type": "stream",
     "text": [
      "Covariance matrix \n",
      " [[ 1.00000549e+00  8.33345458e-03  1.97404307e-02 -2.44649132e-01\n",
      "   7.20728918e-03 -7.67241937e-03  2.46226611e-04 -6.41422271e-04\n",
      "   6.54043925e-02 -1.03360423e-03]\n",
      " [ 8.33345458e-03  1.00000549e+00  6.05514194e-01 -2.08321506e-02\n",
      "   8.38343385e-04 -2.01999862e-01 -1.34596504e-02  1.42403113e-01\n",
      "   6.03301136e-01  1.43110451e-01]\n",
      " [ 1.97404307e-02  6.05514194e-01  1.00000549e+00 -2.56788124e-02\n",
      "   8.47195138e-03 -2.39150474e-01 -1.70296576e-02  3.77841795e-01\n",
      "   8.82241639e-01  6.70023182e-02]\n",
      " [-2.44649132e-01 -2.08321506e-02 -2.56788124e-02  1.00000549e+00\n",
      "   1.25382199e-02  3.53176943e-03 -2.38819678e-02  1.28423492e-03\n",
      "  -3.79778651e-02 -5.01976902e-02]\n",
      " [ 7.20728918e-03  8.38343385e-04  8.47195138e-03  1.25382199e-02\n",
      "   1.00000549e+00 -1.15253078e-02 -5.84827137e-02 -1.70503191e-02\n",
      "   6.35247192e-03 -2.06388433e-02]\n",
      " [-7.67241937e-03 -2.01999862e-01 -2.39150474e-01  3.53176943e-03\n",
      "  -1.15253078e-02  1.00000549e+00 -2.33642891e-03 -1.28250581e-01\n",
      "  -2.11260373e-01 -4.43711635e-02]\n",
      " [ 2.46226611e-04 -1.34596504e-02 -1.70296576e-02 -2.38819678e-02\n",
      "  -5.84827137e-02 -2.33642891e-03  1.00000549e+00 -4.43490808e-03\n",
      "  -8.42374876e-03  2.23521167e-02]\n",
      " [-6.41422271e-04  1.42403113e-01  3.77841795e-01  1.28423492e-03\n",
      "  -1.70503191e-02 -1.28250581e-01 -4.43490808e-03  1.00000549e+00\n",
      "   2.30871709e-01 -2.63406068e-03]\n",
      " [ 6.54043925e-02  6.03301136e-01  8.82241639e-01 -3.79778651e-02\n",
      "   6.35247192e-03 -2.11260373e-01 -8.42374876e-03  2.30871709e-01\n",
      "   1.00000549e+00  1.32489824e-01]\n",
      " [-1.03360423e-03  1.43110451e-01  6.70023182e-02 -5.01976902e-02\n",
      "  -2.06388433e-02 -4.43711635e-02  2.23521167e-02 -2.63406068e-03\n",
      "   1.32489824e-01  1.00000549e+00]]\n"
     ]
    }
   ],
   "source": [
    "## covariance matrix\n",
    "cov_matrix = np.cov(df.T)\n",
    "print('Covariance matrix','\\n',cov_matrix)"
   ]
  },
  {
   "cell_type": "code",
   "execution_count": 34,
   "id": "7181e4dc",
   "metadata": {},
   "outputs": [
    {
     "name": "stdout",
     "output_type": "stream",
     "text": [
      "Covariance matrix \n",
      " [[ 1.00000549e+00  8.33345458e-03  1.97404307e-02 -2.44649132e-01\n",
      "   7.20728918e-03 -7.67241937e-03  2.46226611e-04 -6.41422271e-04\n",
      "   6.54043925e-02 -1.03360423e-03]\n",
      " [ 8.33345458e-03  1.00000549e+00  6.05514194e-01 -2.08321506e-02\n",
      "   8.38343385e-04 -2.01999862e-01 -1.34596504e-02  1.42403113e-01\n",
      "   6.03301136e-01  1.43110451e-01]\n",
      " [ 1.97404307e-02  6.05514194e-01  1.00000549e+00 -2.56788124e-02\n",
      "   8.47195138e-03 -2.39150474e-01 -1.70296576e-02  3.77841795e-01\n",
      "   8.82241639e-01  6.70023182e-02]\n",
      " [-2.44649132e-01 -2.08321506e-02 -2.56788124e-02  1.00000549e+00\n",
      "   1.25382199e-02  3.53176943e-03 -2.38819678e-02  1.28423492e-03\n",
      "  -3.79778651e-02 -5.01976902e-02]\n",
      " [ 7.20728918e-03  8.38343385e-04  8.47195138e-03  1.25382199e-02\n",
      "   1.00000549e+00 -1.15253078e-02 -5.84827137e-02 -1.70503191e-02\n",
      "   6.35247192e-03 -2.06388433e-02]\n",
      " [-7.67241937e-03 -2.01999862e-01 -2.39150474e-01  3.53176943e-03\n",
      "  -1.15253078e-02  1.00000549e+00 -2.33642891e-03 -1.28250581e-01\n",
      "  -2.11260373e-01 -4.43711635e-02]\n",
      " [ 2.46226611e-04 -1.34596504e-02 -1.70296576e-02 -2.38819678e-02\n",
      "  -5.84827137e-02 -2.33642891e-03  1.00000549e+00 -4.43490808e-03\n",
      "  -8.42374876e-03  2.23521167e-02]\n",
      " [-6.41422271e-04  1.42403113e-01  3.77841795e-01  1.28423492e-03\n",
      "  -1.70503191e-02 -1.28250581e-01 -4.43490808e-03  1.00000549e+00\n",
      "   2.30871709e-01 -2.63406068e-03]\n",
      " [ 6.54043925e-02  6.03301136e-01  8.82241639e-01 -3.79778651e-02\n",
      "   6.35247192e-03 -2.11260373e-01 -8.42374876e-03  2.30871709e-01\n",
      "   1.00000549e+00  1.32489824e-01]\n",
      " [-1.03360423e-03  1.43110451e-01  6.70023182e-02 -5.01976902e-02\n",
      "  -2.06388433e-02 -4.43711635e-02  2.23521167e-02 -2.63406068e-03\n",
      "   1.32489824e-01  1.00000549e+00]]\n"
     ]
    }
   ],
   "source": [
    "## Calculating covariance matrix\n",
    "cov_matrix = np.cov(df[~np.isnan(df)].T)\n",
    "print('Covariance matrix','\\n',cov_matrix)"
   ]
  },
  {
   "cell_type": "code",
   "execution_count": 35,
   "id": "397b0cf5",
   "metadata": {},
   "outputs": [
    {
     "name": "stdout",
     "output_type": "stream",
     "text": [
      "Eigen vectors: \n",
      " [[ 0.03749416  0.03430099 -0.05218723  0.68342182  0.68490147 -0.1832128\n",
      "  -0.12667609  0.09375492 -0.01158042  0.00092908]\n",
      " [ 0.47346244 -0.02443297 -0.81151869 -0.0210094  -0.05288446  0.04544913\n",
      "   0.17917783  0.23282403 -0.03159807  0.15511229]\n",
      " [ 0.57003854  0.72769231  0.32949929 -0.04433476 -0.02602578 -0.04169265\n",
      "  -0.07690439  0.01251495 -0.02443532  0.16093787]\n",
      " [-0.03671166  0.00425805 -0.00260336 -0.70152901  0.70095115  0.03074495\n",
      "   0.02709123  0.10290044  0.01539122  0.05145197]\n",
      " [ 0.00301703 -0.00319108 -0.01374082 -0.04484431 -0.02494601 -0.63168893\n",
      "   0.33772226 -0.19705577  0.65487586  0.12797654]\n",
      " [-0.23510579  0.01496654 -0.03450196  0.04614652  0.01786726  0.01655821\n",
      "   0.07262889 -0.31042114 -0.280982    0.87178027]\n",
      " [-0.0109418   0.00522275 -0.00912059  0.094538    0.04217413  0.63277594\n",
      "  -0.23124276  0.00801219  0.69599985  0.2251558 ]\n",
      " [ 0.26641212 -0.12742512 -0.20496827 -0.09637822  0.06415478 -0.07518437\n",
      "  -0.4968769  -0.7595944  -0.02284776 -0.16530524]\n",
      " [ 0.55539585 -0.67065737  0.42724997  0.01263545  0.01425715 -0.00464866\n",
      "   0.04908793  0.11628561 -0.03030003  0.2048829 ]\n",
      " [ 0.11529221  0.04891121  0.06419066  0.12592992  0.17048181  0.39534686\n",
      "   0.72325617 -0.44776714 -0.06606293 -0.22586327]]\n",
      "\n",
      "\n",
      "Eigen values: \n",
      " [2.65461023 0.10062371 0.45291385 1.2497521  0.74882639 1.07180428\n",
      " 1.01619799 0.8563524  0.94498895 0.90398496]\n"
     ]
    }
   ],
   "source": [
    "## Calculating eigen values and eigen vectors\n",
    "eig_vals, eig_vecs = np.linalg.eig(cov_matrix)\n",
    "print('Eigen vectors:','\\n',eig_vecs)\n",
    "print('\\n')\n",
    "print('Eigen values:','\\n',eig_vals)"
   ]
  },
  {
   "cell_type": "code",
   "execution_count": 36,
   "id": "13d8074c",
   "metadata": {},
   "outputs": [
    {
     "name": "stdout",
     "output_type": "stream",
     "text": [
      "Variance Explained:  [26.545956678410036, 12.497452411750599, 10.717984015221209, 10.161924157458255, 9.449837649941834, 9.039800028792438, 8.563477051862305, 7.488222779376086, 4.529113638419379, 1.0062315887678495]\n",
      "Cummulative Variance Explained:  [ 26.54595668  39.04340909  49.76139311  59.92331726  69.37315491\n",
      "  78.41295494  86.97643199  94.46465477  98.99376841 100.        ]\n"
     ]
    }
   ],
   "source": [
    "## Calculating the Variance explained and the cummulative variance explained\n",
    "total = sum(eig_vals)\n",
    "var_exp = [ (i/total)*100  for i in sorted(eig_vals,reverse=True)]\n",
    "cum_var_exp = np.cumsum(var_exp)\n",
    "print('Variance Explained: ',var_exp)\n",
    "print('Cummulative Variance Explained: ',cum_var_exp)"
   ]
  },
  {
   "cell_type": "code",
   "execution_count": 37,
   "id": "de041f2e",
   "metadata": {},
   "outputs": [
    {
     "data": {
      "image/png": "[encoded data removed]",
      "text/plain": [
       "<Figure size 640x480 with 1 Axes>"
      ]
     },
     "metadata": {},
     "output_type": "display_data"
    }
   ],
   "source": [
    "## Scree plot\n",
    "plt.bar(range(10),var_exp, align='center',color='lightgreen',edgecolor='black',label='Indiviual Explained Varinace')\n",
    "plt.step(range(10), cum_var_exp, where='mid',color='red',label='Cummulative explained Variance')\n",
    "plt.legend(loc = 'best')\n",
    "plt.ylabel('Explained Variance Ratio')\n",
    "plt.xlabel('Principal Components')\n",
    "plt.tight_layout()\n",
    "plt.show()"
   ]
  },
  {
   "cell_type": "code",
   "execution_count": 38,
   "id": "96f337d6",
   "metadata": {},
   "outputs": [
    {
     "data": {
      "text/html": [
       "<style>#sk-container-id-1 {color: black;background-color: white;}#sk-container-id-1 pre{padding: 0;}#sk-container-id-1 div.sk-toggleable {background-color: white;}#sk-container-id-1 label.sk-toggleable__label {cursor: pointer;display: block;width: 100%;margin-bottom: 0;padding: 0.3em;box-sizing: border-box;text-align: center;}#sk-container-id-1 label.sk-toggleable__label-arrow:before {content: \"▸\";float: left;margin-right: 0.25em;color: #696969;}#sk-container-id-1 label.sk-toggleable__label-arrow:hover:before {color: black;}#sk-container-id-1 div.sk-estimator:hover label.sk-toggleable__label-arrow:before {color: black;}#sk-container-id-1 div.sk-toggleable__content {max-height: 0;max-width: 0;overflow: hidden;text-align: left;background-color: #f0f8ff;}#sk-container-id-1 div.sk-toggleable__content pre {margin: 0.2em;color: black;border-radius: 0.25em;background-color: #f0f8ff;}#sk-container-id-1 input.sk-toggleable__control:checked~div.sk-toggleable__content {max-height: 200px;max-width: 100%;overflow: auto;}#sk-container-id-1 input.sk-toggleable__control:checked~label.sk-toggleable__label-arrow:before {content: \"▾\";}#sk-container-id-1 div.sk-estimator input.sk-toggleable__control:checked~label.sk-toggleable__label {background-color: #d4ebff;}#sk-container-id-1 div.sk-label input.sk-toggleable__control:checked~label.sk-toggleable__label {background-color: #d4ebff;}#sk-container-id-1 input.sk-hidden--visually {border: 0;clip: rect(1px 1px 1px 1px);clip: rect(1px, 1px, 1px, 1px);height: 1px;margin: -1px;overflow: hidden;padding: 0;position: absolute;width: 1px;}#sk-container-id-1 div.sk-estimator {font-family: monospace;background-color: #f0f8ff;border: 1px dotted black;border-radius: 0.25em;box-sizing: border-box;margin-bottom: 0.5em;}#sk-container-id-1 div.sk-estimator:hover {background-color: #d4ebff;}#sk-container-id-1 div.sk-parallel-item::after {content: \"\";width: 100%;border-bottom: 1px solid gray;flex-grow: 1;}#sk-container-id-1 div.sk-label:hover label.sk-toggleable__label {background-color: #d4ebff;}#sk-container-id-1 div.sk-serial::before {content: \"\";position: absolute;border-left: 1px solid gray;box-sizing: border-box;top: 0;bottom: 0;left: 50%;z-index: 0;}#sk-container-id-1 div.sk-serial {display: flex;flex-direction: column;align-items: center;background-color: white;padding-right: 0.2em;padding-left: 0.2em;position: relative;}#sk-container-id-1 div.sk-item {position: relative;z-index: 1;}#sk-container-id-1 div.sk-parallel {display: flex;align-items: stretch;justify-content: center;background-color: white;position: relative;}#sk-container-id-1 div.sk-item::before, #sk-container-id-1 div.sk-parallel-item::before {content: \"\";position: absolute;border-left: 1px solid gray;box-sizing: border-box;top: 0;bottom: 0;left: 50%;z-index: -1;}#sk-container-id-1 div.sk-parallel-item {display: flex;flex-direction: column;z-index: 1;position: relative;background-color: white;}#sk-container-id-1 div.sk-parallel-item:first-child::after {align-self: flex-end;width: 50%;}#sk-container-id-1 div.sk-parallel-item:last-child::after {align-self: flex-start;width: 50%;}#sk-container-id-1 div.sk-parallel-item:only-child::after {width: 0;}#sk-container-id-1 div.sk-dashed-wrapped {border: 1px dashed gray;margin: 0 0.4em 0.5em 0.4em;box-sizing: border-box;padding-bottom: 0.4em;background-color: white;}#sk-container-id-1 div.sk-label label {font-family: monospace;font-weight: bold;display: inline-block;line-height: 1.2em;}#sk-container-id-1 div.sk-label-container {text-align: center;}#sk-container-id-1 div.sk-container {/* jupyter's `normalize.less` sets `[hidden] { display: none; }` but bootstrap.min.css set `[hidden] { display: none !important; }` so we also need the `!important` here to be able to override the default hidden behavior on the sphinx rendered scikit-learn.org. See: https://github.com/scikit-learn/scikit-learn/issues/21755 */display: inline-block !important;position: relative;}#sk-container-id-1 div.sk-text-repr-fallback {display: none;}</style><div id=\"sk-container-id-1\" class=\"sk-top-container\"><div class=\"sk-text-repr-fallback\"><pre>PCA(n_components=7)</pre><b>In a Jupyter environment, please rerun this cell to show the HTML representation or trust the notebook. <br />On GitHub, the HTML representation is unable to render, please try loading this page with nbviewer.org.</b></div><div class=\"sk-container\" hidden><div class=\"sk-item\"><div class=\"sk-estimator sk-toggleable\"><input class=\"sk-toggleable__control sk-hidden--visually\" id=\"sk-estimator-id-1\" type=\"checkbox\" checked><label for=\"sk-estimator-id-1\" class=\"sk-toggleable__label sk-toggleable__label-arrow\">PCA</label><div class=\"sk-toggleable__content\"><pre>PCA(n_components=7)</pre></div></div></div></div></div>"
      ],
      "text/plain": [
       "PCA(n_components=7)"
      ]
     },
     "execution_count": 38,
     "metadata": {},
     "output_type": "execute_result"
    }
   ],
   "source": [
    "## Fitting the PCA model\n",
    "pca=PCA(n_components = 7)\n",
    "pca.fit(df)"
   ]
  },
  {
   "cell_type": "code",
   "execution_count": 39,
   "id": "ad34d428",
   "metadata": {},
   "outputs": [
    {
     "data": {
      "text/html": [
       "<div>\n",
       "<style scoped>\n",
       "    .dataframe tbody tr th:only-of-type {\n",
       "        vertical-align: middle;\n",
       "    }\n",
       "\n",
       "    .dataframe tbody tr th {\n",
       "        vertical-align: top;\n",
       "    }\n",
       "\n",
       "    .dataframe thead th {\n",
       "        text-align: right;\n",
       "    }\n",
       "</style>\n",
       "<table border=\"1\" class=\"dataframe\">\n",
       "  <thead>\n",
       "    <tr style=\"text-align: right;\">\n",
       "      <th></th>\n",
       "      <th>PC1</th>\n",
       "      <th>PC2</th>\n",
       "      <th>PC3</th>\n",
       "      <th>PC4</th>\n",
       "      <th>PC5</th>\n",
       "      <th>PC6</th>\n",
       "      <th>PC7</th>\n",
       "    </tr>\n",
       "  </thead>\n",
       "  <tbody>\n",
       "    <tr>\n",
       "      <th>0</th>\n",
       "      <td>0.204269</td>\n",
       "      <td>-0.889499</td>\n",
       "      <td>0.422193</td>\n",
       "      <td>1.158455</td>\n",
       "      <td>1.457784</td>\n",
       "      <td>0.516636</td>\n",
       "      <td>-0.502809</td>\n",
       "    </tr>\n",
       "    <tr>\n",
       "      <th>1</th>\n",
       "      <td>-0.579665</td>\n",
       "      <td>-0.698962</td>\n",
       "      <td>0.447306</td>\n",
       "      <td>-0.333177</td>\n",
       "      <td>-1.066034</td>\n",
       "      <td>1.289922</td>\n",
       "      <td>-1.074435</td>\n",
       "    </tr>\n",
       "    <tr>\n",
       "      <th>2</th>\n",
       "      <td>-0.591415</td>\n",
       "      <td>0.225906</td>\n",
       "      <td>0.410963</td>\n",
       "      <td>-0.179456</td>\n",
       "      <td>-1.230063</td>\n",
       "      <td>0.121476</td>\n",
       "      <td>-0.133259</td>\n",
       "    </tr>\n",
       "    <tr>\n",
       "      <th>3</th>\n",
       "      <td>0.572613</td>\n",
       "      <td>-1.213628</td>\n",
       "      <td>-1.207706</td>\n",
       "      <td>1.000237</td>\n",
       "      <td>0.821977</td>\n",
       "      <td>-0.963129</td>\n",
       "      <td>-0.464818</td>\n",
       "    </tr>\n",
       "    <tr>\n",
       "      <th>4</th>\n",
       "      <td>-0.112452</td>\n",
       "      <td>0.306896</td>\n",
       "      <td>1.550739</td>\n",
       "      <td>-0.150720</td>\n",
       "      <td>-1.456042</td>\n",
       "      <td>-2.421093</td>\n",
       "      <td>-1.446194</td>\n",
       "    </tr>\n",
       "  </tbody>\n",
       "</table>\n",
       "</div>"
      ],
      "text/plain": [
       "        PC1       PC2       PC3       PC4       PC5       PC6       PC7\n",
       "0  0.204269 -0.889499  0.422193  1.158455  1.457784  0.516636 -0.502809\n",
       "1 -0.579665 -0.698962  0.447306 -0.333177 -1.066034  1.289922 -1.074435\n",
       "2 -0.591415  0.225906  0.410963 -0.179456 -1.230063  0.121476 -0.133259\n",
       "3  0.572613 -1.213628 -1.207706  1.000237  0.821977 -0.963129 -0.464818\n",
       "4 -0.112452  0.306896  1.550739 -0.150720 -1.456042 -2.421093 -1.446194"
      ]
     },
     "execution_count": 39,
     "metadata": {},
     "output_type": "execute_result"
    }
   ],
   "source": [
    "data_pca = pca.transform(df)\n",
    "data_pca = pd.DataFrame(data_pca,columns=['PC1','PC2','PC3','PC4','PC5','PC6','PC7'])\n",
    "data_pca.head()"
   ]
  },
  {
   "cell_type": "markdown",
   "id": "9db41b7e",
   "metadata": {},
   "source": [
    "### 15. Apply K-means clustering and segment the data. (You may use original data or PCA transformed data)"
   ]
  },
  {
   "cell_type": "markdown",
   "id": "24bd739a",
   "metadata": {},
   "source": [
    "#### a. Find the optimal K Value using elbow plot for K Means clustering."
   ]
  },
  {
   "cell_type": "code",
   "execution_count": 40,
   "id": "4ffea892",
   "metadata": {},
   "outputs": [
    {
     "data": {
      "text/html": [
       "<div>\n",
       "<style scoped>\n",
       "    .dataframe tbody tr th:only-of-type {\n",
       "        vertical-align: middle;\n",
       "    }\n",
       "\n",
       "    .dataframe tbody tr th {\n",
       "        vertical-align: top;\n",
       "    }\n",
       "\n",
       "    .dataframe thead th {\n",
       "        text-align: right;\n",
       "    }\n",
       "</style>\n",
       "<table border=\"1\" class=\"dataframe\">\n",
       "  <thead>\n",
       "    <tr style=\"text-align: right;\">\n",
       "      <th></th>\n",
       "      <th>num_clusters</th>\n",
       "      <th>cluster_errors</th>\n",
       "    </tr>\n",
       "  </thead>\n",
       "  <tbody>\n",
       "    <tr>\n",
       "      <th>0</th>\n",
       "      <td>2</td>\n",
       "      <td>141022.488885</td>\n",
       "    </tr>\n",
       "    <tr>\n",
       "      <th>1</th>\n",
       "      <td>3</td>\n",
       "      <td>127485.632152</td>\n",
       "    </tr>\n",
       "    <tr>\n",
       "      <th>2</th>\n",
       "      <td>4</td>\n",
       "      <td>115850.236831</td>\n",
       "    </tr>\n",
       "    <tr>\n",
       "      <th>3</th>\n",
       "      <td>5</td>\n",
       "      <td>106156.444123</td>\n",
       "    </tr>\n",
       "    <tr>\n",
       "      <th>4</th>\n",
       "      <td>6</td>\n",
       "      <td>100391.831656</td>\n",
       "    </tr>\n",
       "    <tr>\n",
       "      <th>5</th>\n",
       "      <td>7</td>\n",
       "      <td>95459.761073</td>\n",
       "    </tr>\n",
       "    <tr>\n",
       "      <th>6</th>\n",
       "      <td>8</td>\n",
       "      <td>91504.382827</td>\n",
       "    </tr>\n",
       "    <tr>\n",
       "      <th>7</th>\n",
       "      <td>9</td>\n",
       "      <td>88082.876638</td>\n",
       "    </tr>\n",
       "    <tr>\n",
       "      <th>8</th>\n",
       "      <td>10</td>\n",
       "      <td>85094.646863</td>\n",
       "    </tr>\n",
       "    <tr>\n",
       "      <th>9</th>\n",
       "      <td>11</td>\n",
       "      <td>82353.434093</td>\n",
       "    </tr>\n",
       "    <tr>\n",
       "      <th>10</th>\n",
       "      <td>12</td>\n",
       "      <td>79905.914183</td>\n",
       "    </tr>\n",
       "    <tr>\n",
       "      <th>11</th>\n",
       "      <td>13</td>\n",
       "      <td>78138.962993</td>\n",
       "    </tr>\n",
       "    <tr>\n",
       "      <th>12</th>\n",
       "      <td>14</td>\n",
       "      <td>76175.789511</td>\n",
       "    </tr>\n",
       "  </tbody>\n",
       "</table>\n",
       "</div>"
      ],
      "text/plain": [
       "    num_clusters  cluster_errors\n",
       "0              2   141022.488885\n",
       "1              3   127485.632152\n",
       "2              4   115850.236831\n",
       "3              5   106156.444123\n",
       "4              6   100391.831656\n",
       "5              7    95459.761073\n",
       "6              8    91504.382827\n",
       "7              9    88082.876638\n",
       "8             10    85094.646863\n",
       "9             11    82353.434093\n",
       "10            12    79905.914183\n",
       "11            13    78138.962993\n",
       "12            14    76175.789511"
      ]
     },
     "execution_count": 40,
     "metadata": {},
     "output_type": "execute_result"
    }
   ],
   "source": [
    "# Using 10% of total data as sample to calcute the results and reduce the omputation time.\n",
    "\n",
    "df_scaled=data_pca.sample(20000)\n",
    "cluster_range = range(2,15)\n",
    "cluster_errors = []\n",
    "\n",
    "for num_clusters in cluster_range:\n",
    "   \n",
    "    clusters = KMeans(num_clusters, n_init=10)\n",
    "    clusters.fit(df_scaled)\n",
    "    \n",
    "    labels = clusters.labels_\n",
    "    centroids = clusters.cluster_centers_\n",
    "    \n",
    "    cluster_errors.append(clusters.inertia_)\n",
    "\n",
    "clusters_df = pd.DataFrame({'num_clusters':cluster_range, \n",
    "                           'cluster_errors':cluster_errors})\n",
    "\n",
    "clusters_df"
   ]
  },
  {
   "cell_type": "markdown",
   "id": "1cf5c351",
   "metadata": {},
   "source": [
    "#### b. Build a Kmeans clustering model using the obtained optimal K value from the elbow plot."
   ]
  },
  {
   "cell_type": "code",
   "execution_count": 41,
   "id": "de6be40c",
   "metadata": {},
   "outputs": [
    {
     "data": {
      "image/png": "[encoded data removed]",
      "text/plain": [
       "<Figure size 1200x600 with 1 Axes>"
      ]
     },
     "metadata": {},
     "output_type": "display_data"
    }
   ],
   "source": [
    "## Elbow method\n",
    "plt.figure(figsize=[12,6])\n",
    "plt.title('The Elbow Method')\n",
    "plt.xlabel('Number of clusters using PCA')\n",
    "plt.plot(clusters_df['num_clusters'],clusters_df['cluster_errors'],marker='o',color='b')\n",
    "plt.show()"
   ]
  },
  {
   "cell_type": "code",
   "execution_count": 42,
   "id": "5bbd0aef",
   "metadata": {},
   "outputs": [
    {
     "data": {
      "text/html": [
       "<style>#sk-container-id-2 {color: black;background-color: white;}#sk-container-id-2 pre{padding: 0;}#sk-container-id-2 div.sk-toggleable {background-color: white;}#sk-container-id-2 label.sk-toggleable__label {cursor: pointer;display: block;width: 100%;margin-bottom: 0;padding: 0.3em;box-sizing: border-box;text-align: center;}#sk-container-id-2 label.sk-toggleable__label-arrow:before {content: \"▸\";float: left;margin-right: 0.25em;color: #696969;}#sk-container-id-2 label.sk-toggleable__label-arrow:hover:before {color: black;}#sk-container-id-2 div.sk-estimator:hover label.sk-toggleable__label-arrow:before {color: black;}#sk-container-id-2 div.sk-toggleable__content {max-height: 0;max-width: 0;overflow: hidden;text-align: left;background-color: #f0f8ff;}#sk-container-id-2 div.sk-toggleable__content pre {margin: 0.2em;color: black;border-radius: 0.25em;background-color: #f0f8ff;}#sk-container-id-2 input.sk-toggleable__control:checked~div.sk-toggleable__content {max-height: 200px;max-width: 100%;overflow: auto;}#sk-container-id-2 input.sk-toggleable__control:checked~label.sk-toggleable__label-arrow:before {content: \"▾\";}#sk-container-id-2 div.sk-estimator input.sk-toggleable__control:checked~label.sk-toggleable__label {background-color: #d4ebff;}#sk-container-id-2 div.sk-label input.sk-toggleable__control:checked~label.sk-toggleable__label {background-color: #d4ebff;}#sk-container-id-2 input.sk-hidden--visually {border: 0;clip: rect(1px 1px 1px 1px);clip: rect(1px, 1px, 1px, 1px);height: 1px;margin: -1px;overflow: hidden;padding: 0;position: absolute;width: 1px;}#sk-container-id-2 div.sk-estimator {font-family: monospace;background-color: #f0f8ff;border: 1px dotted black;border-radius: 0.25em;box-sizing: border-box;margin-bottom: 0.5em;}#sk-container-id-2 div.sk-estimator:hover {background-color: #d4ebff;}#sk-container-id-2 div.sk-parallel-item::after {content: \"\";width: 100%;border-bottom: 1px solid gray;flex-grow: 1;}#sk-container-id-2 div.sk-label:hover label.sk-toggleable__label {background-color: #d4ebff;}#sk-container-id-2 div.sk-serial::before {content: \"\";position: absolute;border-left: 1px solid gray;box-sizing: border-box;top: 0;bottom: 0;left: 50%;z-index: 0;}#sk-container-id-2 div.sk-serial {display: flex;flex-direction: column;align-items: center;background-color: white;padding-right: 0.2em;padding-left: 0.2em;position: relative;}#sk-container-id-2 div.sk-item {position: relative;z-index: 1;}#sk-container-id-2 div.sk-parallel {display: flex;align-items: stretch;justify-content: center;background-color: white;position: relative;}#sk-container-id-2 div.sk-item::before, #sk-container-id-2 div.sk-parallel-item::before {content: \"\";position: absolute;border-left: 1px solid gray;box-sizing: border-box;top: 0;bottom: 0;left: 50%;z-index: -1;}#sk-container-id-2 div.sk-parallel-item {display: flex;flex-direction: column;z-index: 1;position: relative;background-color: white;}#sk-container-id-2 div.sk-parallel-item:first-child::after {align-self: flex-end;width: 50%;}#sk-container-id-2 div.sk-parallel-item:last-child::after {align-self: flex-start;width: 50%;}#sk-container-id-2 div.sk-parallel-item:only-child::after {width: 0;}#sk-container-id-2 div.sk-dashed-wrapped {border: 1px dashed gray;margin: 0 0.4em 0.5em 0.4em;box-sizing: border-box;padding-bottom: 0.4em;background-color: white;}#sk-container-id-2 div.sk-label label {font-family: monospace;font-weight: bold;display: inline-block;line-height: 1.2em;}#sk-container-id-2 div.sk-label-container {text-align: center;}#sk-container-id-2 div.sk-container {/* jupyter's `normalize.less` sets `[hidden] { display: none; }` but bootstrap.min.css set `[hidden] { display: none !important; }` so we also need the `!important` here to be able to override the default hidden behavior on the sphinx rendered scikit-learn.org. See: https://github.com/scikit-learn/scikit-learn/issues/21755 */display: inline-block !important;position: relative;}#sk-container-id-2 div.sk-text-repr-fallback {display: none;}</style><div id=\"sk-container-id-2\" class=\"sk-top-container\"><div class=\"sk-text-repr-fallback\"><pre>KMeans(n_clusters=5, n_init=15, random_state=2345)</pre><b>In a Jupyter environment, please rerun this cell to show the HTML representation or trust the notebook. <br />On GitHub, the HTML representation is unable to render, please try loading this page with nbviewer.org.</b></div><div class=\"sk-container\" hidden><div class=\"sk-item\"><div class=\"sk-estimator sk-toggleable\"><input class=\"sk-toggleable__control sk-hidden--visually\" id=\"sk-estimator-id-2\" type=\"checkbox\" checked><label for=\"sk-estimator-id-2\" class=\"sk-toggleable__label sk-toggleable__label-arrow\">KMeans</label><div class=\"sk-toggleable__content\"><pre>KMeans(n_clusters=5, n_init=15, random_state=2345)</pre></div></div></div></div></div>"
      ],
      "text/plain": [
       "KMeans(n_clusters=5, n_init=15, random_state=2345)"
      ]
     },
     "execution_count": 42,
     "metadata": {},
     "output_type": "execute_result"
    }
   ],
   "source": [
    "## Fit the KMeans clustering model using the obtained optimal K\n",
    "kmeans = KMeans(n_clusters=5, n_init=15, random_state=2345)\n",
    "kmeans.fit(df_scaled)"
   ]
  },
  {
   "cell_type": "code",
   "execution_count": 43,
   "id": "57599664",
   "metadata": {},
   "outputs": [
    {
     "data": {
      "text/plain": [
       "array([3, 1, 1, ..., 2, 0, 2])"
      ]
     },
     "execution_count": 43,
     "metadata": {},
     "output_type": "execute_result"
    }
   ],
   "source": [
    "## obtained labels from kmeans clustering\n",
    "kmeans.labels_"
   ]
  },
  {
   "cell_type": "code",
   "execution_count": 44,
   "id": "1ba2f007",
   "metadata": {},
   "outputs": [
    {
     "data": {
      "text/html": [
       "<div>\n",
       "<style scoped>\n",
       "    .dataframe tbody tr th:only-of-type {\n",
       "        vertical-align: middle;\n",
       "    }\n",
       "\n",
       "    .dataframe tbody tr th {\n",
       "        vertical-align: top;\n",
       "    }\n",
       "\n",
       "    .dataframe thead th {\n",
       "        text-align: right;\n",
       "    }\n",
       "</style>\n",
       "<table border=\"1\" class=\"dataframe\">\n",
       "  <thead>\n",
       "    <tr style=\"text-align: right;\">\n",
       "      <th></th>\n",
       "      <th>Labels</th>\n",
       "    </tr>\n",
       "  </thead>\n",
       "  <tbody>\n",
       "    <tr>\n",
       "      <th>0</th>\n",
       "      <td>3</td>\n",
       "    </tr>\n",
       "    <tr>\n",
       "      <th>1</th>\n",
       "      <td>1</td>\n",
       "    </tr>\n",
       "    <tr>\n",
       "      <th>2</th>\n",
       "      <td>1</td>\n",
       "    </tr>\n",
       "    <tr>\n",
       "      <th>3</th>\n",
       "      <td>1</td>\n",
       "    </tr>\n",
       "    <tr>\n",
       "      <th>4</th>\n",
       "      <td>3</td>\n",
       "    </tr>\n",
       "  </tbody>\n",
       "</table>\n",
       "</div>"
      ],
      "text/plain": [
       "   Labels\n",
       "0       3\n",
       "1       1\n",
       "2       1\n",
       "3       1\n",
       "4       3"
      ]
     },
     "execution_count": 44,
     "metadata": {},
     "output_type": "execute_result"
    }
   ],
   "source": [
    "## Creating a new dataframe only for labels.\n",
    "df_labels = pd.DataFrame(kmeans.labels_, columns=list(['Labels']))\n",
    "df_labels.head(5)"
   ]
  },
  {
   "cell_type": "code",
   "execution_count": 45,
   "id": "5d8574a9",
   "metadata": {},
   "outputs": [],
   "source": [
    "df_labels['Labels'] = df_labels['Labels'].astype('category')"
   ]
  },
  {
   "cell_type": "code",
   "execution_count": 46,
   "id": "d09f2b5e",
   "metadata": {},
   "outputs": [
    {
     "data": {
      "text/html": [
       "<div>\n",
       "<style scoped>\n",
       "    .dataframe tbody tr th:only-of-type {\n",
       "        vertical-align: middle;\n",
       "    }\n",
       "\n",
       "    .dataframe tbody tr th {\n",
       "        vertical-align: top;\n",
       "    }\n",
       "\n",
       "    .dataframe thead th {\n",
       "        text-align: right;\n",
       "    }\n",
       "</style>\n",
       "<table border=\"1\" class=\"dataframe\">\n",
       "  <thead>\n",
       "    <tr style=\"text-align: right;\">\n",
       "      <th></th>\n",
       "      <th>fit</th>\n",
       "      <th>bust size</th>\n",
       "      <th>weight</th>\n",
       "      <th>rating</th>\n",
       "      <th>rented for</th>\n",
       "      <th>body type</th>\n",
       "      <th>category</th>\n",
       "      <th>height</th>\n",
       "      <th>size</th>\n",
       "      <th>age</th>\n",
       "      <th>Labels</th>\n",
       "    </tr>\n",
       "  </thead>\n",
       "  <tbody>\n",
       "    <tr>\n",
       "      <th>0</th>\n",
       "      <td>-0.556727</td>\n",
       "      <td>0.011637</td>\n",
       "      <td>-0.089956</td>\n",
       "      <td>0.636215</td>\n",
       "      <td>0.504951</td>\n",
       "      <td>0.032564</td>\n",
       "      <td>1.577868</td>\n",
       "      <td>1.042810</td>\n",
       "      <td>0.231460</td>\n",
       "      <td>-0.769380</td>\n",
       "      <td>3</td>\n",
       "    </tr>\n",
       "    <tr>\n",
       "      <th>1</th>\n",
       "      <td>-0.556727</td>\n",
       "      <td>-0.165309</td>\n",
       "      <td>-0.312536</td>\n",
       "      <td>0.636215</td>\n",
       "      <td>-0.466198</td>\n",
       "      <td>1.895532</td>\n",
       "      <td>-0.304830</td>\n",
       "      <td>0.394804</td>\n",
       "      <td>-0.006696</td>\n",
       "      <td>0.548608</td>\n",
       "      <td>1</td>\n",
       "    </tr>\n",
       "    <tr>\n",
       "      <th>3</th>\n",
       "      <td>-0.556727</td>\n",
       "      <td>-0.076836</td>\n",
       "      <td>-0.178988</td>\n",
       "      <td>-0.764878</td>\n",
       "      <td>-0.951773</td>\n",
       "      <td>0.653553</td>\n",
       "      <td>-0.618613</td>\n",
       "      <td>-0.253202</td>\n",
       "      <td>-0.483007</td>\n",
       "      <td>0.219111</td>\n",
       "      <td>1</td>\n",
       "    </tr>\n",
       "    <tr>\n",
       "      <th>4</th>\n",
       "      <td>-0.556727</td>\n",
       "      <td>-0.165309</td>\n",
       "      <td>0.266172</td>\n",
       "      <td>0.636215</td>\n",
       "      <td>0.990525</td>\n",
       "      <td>-1.209415</td>\n",
       "      <td>-0.304830</td>\n",
       "      <td>1.366813</td>\n",
       "      <td>-0.006696</td>\n",
       "      <td>-0.934129</td>\n",
       "      <td>3</td>\n",
       "    </tr>\n",
       "    <tr>\n",
       "      <th>5</th>\n",
       "      <td>-0.556727</td>\n",
       "      <td>-1.315454</td>\n",
       "      <td>-0.045440</td>\n",
       "      <td>-0.764878</td>\n",
       "      <td>-1.922922</td>\n",
       "      <td>-1.209415</td>\n",
       "      <td>-0.618613</td>\n",
       "      <td>1.042810</td>\n",
       "      <td>-0.483007</td>\n",
       "      <td>2.031345</td>\n",
       "      <td>2</td>\n",
       "    </tr>\n",
       "  </tbody>\n",
       "</table>\n",
       "</div>"
      ],
      "text/plain": [
       "        fit  bust size    weight    rating  rented for  body type  category  \\\n",
       "0 -0.556727   0.011637 -0.089956  0.636215    0.504951   0.032564  1.577868   \n",
       "1 -0.556727  -0.165309 -0.312536  0.636215   -0.466198   1.895532 -0.304830   \n",
       "3 -0.556727  -0.076836 -0.178988 -0.764878   -0.951773   0.653553 -0.618613   \n",
       "4 -0.556727  -0.165309  0.266172  0.636215    0.990525  -1.209415 -0.304830   \n",
       "5 -0.556727  -1.315454 -0.045440 -0.764878   -1.922922  -1.209415 -0.618613   \n",
       "\n",
       "     height      size       age Labels  \n",
       "0  1.042810  0.231460 -0.769380      3  \n",
       "1  0.394804 -0.006696  0.548608      1  \n",
       "3 -0.253202 -0.483007  0.219111      1  \n",
       "4  1.366813 -0.006696 -0.934129      3  \n",
       "5  1.042810 -0.483007  2.031345      2  "
      ]
     },
     "execution_count": 46,
     "metadata": {},
     "output_type": "execute_result"
    }
   ],
   "source": [
    "## joining the label dataframe with unscaled initial dataframe.(df)\n",
    "\n",
    "df_kmeans = df.join(df_labels)\n",
    "\n",
    "df_kmeans.head()"
   ]
  },
  {
   "cell_type": "code",
   "execution_count": 47,
   "id": "de1568e3",
   "metadata": {},
   "outputs": [
    {
     "data": {
      "text/plain": [
       "3    6179\n",
       "1    4077\n",
       "2    3093\n",
       "4    2840\n",
       "0    2758\n",
       "Name: Labels, dtype: int64"
      ]
     },
     "execution_count": 47,
     "metadata": {},
     "output_type": "execute_result"
    }
   ],
   "source": [
    "df_kmeans['Labels'].value_counts()"
   ]
  },
  {
   "cell_type": "markdown",
   "id": "de129a27",
   "metadata": {},
   "source": [
    "#### c. Compute silhouette score for evaluating the quality of the K Means clustering technique."
   ]
  },
  {
   "cell_type": "code",
   "execution_count": 48,
   "id": "62aa9a36",
   "metadata": {},
   "outputs": [
    {
     "name": "stdout",
     "output_type": "stream",
     "text": [
      "2 0.182763277595493\n",
      "3 0.1649652891028568\n",
      "4 0.13895392476093207\n",
      "5 0.14622382333566844\n",
      "6 0.13877408370739325\n",
      "7 0.132532633382193\n",
      "8 0.12396673828844444\n",
      "9 0.12969926383463337\n"
     ]
    }
   ],
   "source": [
    "from sklearn.metrics import silhouette_score\n",
    "\n",
    "kmeans_score = []\n",
    "\n",
    "for i in range(2,10):\n",
    "    kmeans = KMeans(n_clusters=i)\n",
    "    kmeans = kmeans.fit(df_scaled)\n",
    "    labels = kmeans.predict(df_scaled)\n",
    "    print(i,silhouette_score(df_scaled,labels))"
   ]
  },
  {
   "cell_type": "markdown",
   "id": "ebd6b95c",
   "metadata": {},
   "source": [
    "### 16. Apply Agglomerative clustering and segment the data. (You may use original data or PCA transformed data)"
   ]
  },
  {
   "cell_type": "markdown",
   "id": "6243f5d9",
   "metadata": {},
   "source": [
    "#### a. Find the optimal K Value using dendrogram for Agglomerative clustering."
   ]
  },
  {
   "cell_type": "code",
   "execution_count": 49,
   "id": "7cb214c0",
   "metadata": {},
   "outputs": [
    {
     "data": {
      "image/png": "[encoded data removed]",
      "text/plain": [
       "<Figure size 1400x900 with 1 Axes>"
      ]
     },
     "metadata": {},
     "output_type": "display_data"
    }
   ],
   "source": [
    "#ss = StandardScaler()\n",
    "#from scipy.cluster.hierarchy import linkage, dendrogram, fcluster\n",
    "plt.figure(figsize=[14,9])\n",
    "merg = linkage(df_scaled, method='ward')\n",
    "dendrogram(merg, leaf_rotation=90,)\n",
    "plt.xlabel('Datapoints')\n",
    "plt.ylabel('Euclidean distance')\n",
    "plt.show()"
   ]
  },
  {
   "cell_type": "markdown",
   "id": "b6dff3e5",
   "metadata": {},
   "source": [
    "#### b. Build a Agglomerative clustering model using the obtained optimal K value observed from dendrogram"
   ]
  },
  {
   "cell_type": "code",
   "execution_count": 50,
   "id": "66c2f187",
   "metadata": {},
   "outputs": [],
   "source": [
    "hie_cluster = AgglomerativeClustering(n_clusters=5 , affinity='euclidean',\n",
    "                                     linkage='ward')\n",
    "\n",
    "hie_cluster_model = hie_cluster.fit(df_scaled)"
   ]
  },
  {
   "cell_type": "code",
   "execution_count": 51,
   "id": "386e5085",
   "metadata": {},
   "outputs": [
    {
     "data": {
      "text/html": [
       "<div>\n",
       "<style scoped>\n",
       "    .dataframe tbody tr th:only-of-type {\n",
       "        vertical-align: middle;\n",
       "    }\n",
       "\n",
       "    .dataframe tbody tr th {\n",
       "        vertical-align: top;\n",
       "    }\n",
       "\n",
       "    .dataframe thead th {\n",
       "        text-align: right;\n",
       "    }\n",
       "</style>\n",
       "<table border=\"1\" class=\"dataframe\">\n",
       "  <thead>\n",
       "    <tr style=\"text-align: right;\">\n",
       "      <th></th>\n",
       "      <th>Labels</th>\n",
       "    </tr>\n",
       "  </thead>\n",
       "  <tbody>\n",
       "    <tr>\n",
       "      <th>0</th>\n",
       "      <td>4</td>\n",
       "    </tr>\n",
       "    <tr>\n",
       "      <th>1</th>\n",
       "      <td>2</td>\n",
       "    </tr>\n",
       "    <tr>\n",
       "      <th>2</th>\n",
       "      <td>2</td>\n",
       "    </tr>\n",
       "    <tr>\n",
       "      <th>3</th>\n",
       "      <td>2</td>\n",
       "    </tr>\n",
       "    <tr>\n",
       "      <th>4</th>\n",
       "      <td>0</td>\n",
       "    </tr>\n",
       "    <tr>\n",
       "      <th>5</th>\n",
       "      <td>0</td>\n",
       "    </tr>\n",
       "    <tr>\n",
       "      <th>6</th>\n",
       "      <td>4</td>\n",
       "    </tr>\n",
       "    <tr>\n",
       "      <th>7</th>\n",
       "      <td>4</td>\n",
       "    </tr>\n",
       "    <tr>\n",
       "      <th>8</th>\n",
       "      <td>1</td>\n",
       "    </tr>\n",
       "    <tr>\n",
       "      <th>9</th>\n",
       "      <td>1</td>\n",
       "    </tr>\n",
       "  </tbody>\n",
       "</table>\n",
       "</div>"
      ],
      "text/plain": [
       "   Labels\n",
       "0       4\n",
       "1       2\n",
       "2       2\n",
       "3       2\n",
       "4       0\n",
       "5       0\n",
       "6       4\n",
       "7       4\n",
       "8       1\n",
       "9       1"
      ]
     },
     "execution_count": 51,
     "metadata": {},
     "output_type": "execute_result"
    }
   ],
   "source": [
    "## Creating a dataframe of the labels\n",
    "df_label1 = pd.DataFrame(hie_cluster_model.labels_,columns=['Labels'])\n",
    "df_label1.head(n=10)"
   ]
  },
  {
   "cell_type": "code",
   "execution_count": 52,
   "id": "a06e207b",
   "metadata": {},
   "outputs": [],
   "source": [
    "## joining the label dataframe with unscaled initial dataframe.(df)\n",
    "df_hier = df.join(df_label1)"
   ]
  },
  {
   "cell_type": "markdown",
   "id": "f943e2a2",
   "metadata": {},
   "source": [
    "#### c. Compute silhoutte score for evaluating the quality of the Agglomerative clustering technique"
   ]
  },
  {
   "cell_type": "code",
   "execution_count": 53,
   "id": "8b3b0fce",
   "metadata": {},
   "outputs": [
    {
     "name": "stdout",
     "output_type": "stream",
     "text": [
      "2 0.11893682441784859\n",
      "3 0.10004801587026597\n",
      "4 0.10413613259113672\n",
      "5 0.11224287611808093\n",
      "6 0.08091402788840298\n",
      "7 0.06957319230745258\n",
      "8 0.07353632637265647\n",
      "9 0.06550244126841127\n"
     ]
    }
   ],
   "source": [
    "from sklearn.metrics import silhouette_score\n",
    "for i in range(2,10):\n",
    "    hier = AgglomerativeClustering(n_clusters=i)\n",
    "    hier = hier.fit(df_scaled)\n",
    "    labels = hier.fit_predict(df_scaled)\n",
    "    print(i,silhouette_score(df_scaled,labels))"
   ]
  },
  {
   "cell_type": "markdown",
   "id": "d83ba971",
   "metadata": {},
   "source": [
    "## Conclusion :"
   ]
  },
  {
   "cell_type": "markdown",
   "id": "7c641a5e",
   "metadata": {},
   "source": [
    "### 17. Perform cluster analysis by doing bivariate analysis between cluster labels and different features and write your conclusion on the results."
   ]
  },
  {
   "cell_type": "code",
   "execution_count": null,
   "id": "7e7fa092",
   "metadata": {},
   "outputs": [],
   "source": [
    "sns.barplot(df_kmeans['Labels'],df_kmeans['rented for'])\n",
    "plt.show()\n",
    "#the below bar plot shows what peple have rented cloth for different purposes"
   ]
  },
  {
   "cell_type": "code",
   "execution_count": null,
   "id": "5e07f1f4",
   "metadata": {},
   "outputs": [],
   "source": [
    "#This scatter plot shows differnt categories of products\n",
    "sns.set(rc={\"figure.figsize\":(14, 6)})\n",
    "sns.scatterplot(df_hier['Labels'],df_hier['category'])"
   ]
  },
  {
   "cell_type": "code",
   "execution_count": 58,
   "id": "d4ffbe0b",
   "metadata": {},
   "outputs": [
    {
     "data": {
      "image/png": "[encoded data removed]",
      "text/plain": [
       "<Figure size 1800x600 with 1 Axes>"
      ]
     },
     "metadata": {},
     "output_type": "display_data"
    }
   ],
   "source": [
    "#the below bar plot shows what peple have rented cloths for different purposes\n",
    "sns.set(rc={\"figure.figsize\":(18, 6)})\n",
    "sns.countplot(data = df_hier, x = 'rented for', hue = 'Labels')\n",
    "plt.show()"
   ]
  }
 ],
 "metadata": {
  "kernelspec": {
   "display_name": "Python 3 (ipykernel)",
   "language": "python",
   "name": "python3"
  },
  "language_info": {
   "codemirror_mode": {
    "name": "ipython",
    "version": 3
   },
   "file_extension": ".py",
   "mimetype": "text/x-python",
   "name": "python",
   "nbconvert_exporter": "python",
   "pygments_lexer": "ipython3",
   "version": "3.10.9"
  }
 },
 "nbformat": 4,
 "nbformat_minor": 5
}
